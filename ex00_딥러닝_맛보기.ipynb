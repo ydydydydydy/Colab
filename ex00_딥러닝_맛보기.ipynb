{
  "nbformat": 4,
  "nbformat_minor": 0,
  "metadata": {
    "colab": {
      "provenance": [],
      "mount_file_id": "1g_kqKeBXLPwA-zsLZWKZvci6V6zy2Lab",
      "authorship_tag": "ABX9TyNryTeUQjui1KVH/dIIIty7",
      "include_colab_link": true
    },
    "kernelspec": {
      "name": "python3",
      "display_name": "Python 3"
    },
    "language_info": {
      "name": "python"
    }
  },
  "cells": [
    {
      "cell_type": "markdown",
      "metadata": {
        "id": "view-in-github",
        "colab_type": "text"
      },
      "source": [
        "<a href=\"https://colab.research.google.com/github/ydydydydydy/Colab/blob/main/ex00_%EB%94%A5%EB%9F%AC%EB%8B%9D_%EB%A7%9B%EB%B3%B4%EA%B8%B0.ipynb\" target=\"_parent\"><img src=\"https://colab.research.google.com/assets/colab-badge.svg\" alt=\"Open In Colab\"/></a>"
      ]
    },
    {
      "cell_type": "markdown",
      "source": [
        "### 단축키 사용법\n",
        "  - 실행단축키\n",
        "    - ctrl + Enter : 실행 후에 커서가 그대로 위치\n",
        "    - shift + Enter : 실행 후 커서 아래 셀로 이동\n",
        "    - alt + Enter : 실행 후 아래 셀 생성하고 아래로 이동\n",
        "\n",
        "  - 마크다운 변환(코드셀 -> 텍스트셀)\n",
        "    - ctrl + m + m\n",
        "\n",
        "  - 코드모드로 변환(텍스트 -> 코드)\n",
        "    - ctrl + m + y\n",
        "  \n",
        "  - 셀 아래에 추가하기\n",
        "    - ctrl + m + b\n",
        "  \n",
        "  - 셀 위에 추가하기\n",
        "    - ctrl + m + a\n",
        "  "
      ],
      "metadata": {
        "id": "udtIfQbdgc_T"
      }
    },
    {
      "cell_type": "markdown",
      "source": [
        "### 딥러닝 맛보기\n",
        "- 딥러닝이란?\n",
        "  - 인간의 신경망을 모방하여 학습하고 예측하는 기술\n",
        "  - 대량의 데이터에서 복잡한 패턴이나 규칙을 찾아내는 능력이 뛰어남\n",
        "  - 머신러닝에 비해 조금 더 유연한 사고를 한다\n",
        "  - 인간의 뉴런 == 딥러닝에서 선형모델\n",
        "  - 주로 영상, 음성 이미지 처리에 사용된다\n",
        "\n",
        "- tensorflow\n",
        "  - 구글이 만든 딥러닝을 위한 라이브러리\n",
        "\n",
        "- keras\n",
        "  - tensorflow 위에서 동작하는 라이브러리로 사용자 친화적 라이브러리\n",
        "  "
      ],
      "metadata": {
        "id": "17Rj20xkhXjB"
      }
    },
    {
      "cell_type": "code",
      "source": [
        "# tensorflow 버전 확인\n",
        "import tensorflow as tf\n",
        "print(tf.__version__)\n",
        "# 2.13.0\n",
        "# 설치버전 확인 이유: 프로젝트 진행시 오픈소스 가져다 쓸 때 충돌방지"
      ],
      "metadata": {
        "colab": {
          "base_uri": "https://localhost:8080/"
        },
        "id": "8mBs_B9picsL",
        "outputId": "8412906a-35d6-4b6e-d512-442e7e1cf5f0"
      },
      "execution_count": 34,
      "outputs": [
        {
          "output_type": "stream",
          "name": "stdout",
          "text": [
            "2.13.0\n"
          ]
        }
      ]
    },
    {
      "cell_type": "code",
      "source": [
        "# 리눅스기반의 코랩 (리눅스명령어 그대로 사용가능)\n",
        "# 리눅스 명령어를 사용하여 현재 작업 디렉토리 확인\n",
        "!pwd # print work directory"
      ],
      "metadata": {
        "colab": {
          "base_uri": "https://localhost:8080/"
        },
        "id": "1R3BzipPilFb",
        "outputId": "21004fac-d623-48cb-a3d9-f27fe91ec48d"
      },
      "execution_count": 35,
      "outputs": [
        {
          "output_type": "stream",
          "name": "stdout",
          "text": [
            "/content/drive/MyDrive/Colab Notebooks/DeepLearning\n"
          ]
        }
      ]
    },
    {
      "cell_type": "code",
      "source": [
        "# 현재 작업 디렉토리의 파일 목록 조회\n",
        "!ls"
      ],
      "metadata": {
        "colab": {
          "base_uri": "https://localhost:8080/"
        },
        "id": "fvKNb6svilad",
        "outputId": "5be508ca-ee32-4499-ddfe-ff3a7275d496"
      },
      "execution_count": 36,
      "outputs": [
        {
          "output_type": "stream",
          "name": "stdout",
          "text": [
            " data  'ex00_딥러닝 맛보기.ipynb'\n"
          ]
        }
      ]
    },
    {
      "cell_type": "code",
      "source": [
        "# 작업 디렉토리 변경\n",
        "# %cd (change directory)\n",
        "%cd \"/content/drive/MyDrive/Colab Notebooks/DeepLearning\""
      ],
      "metadata": {
        "colab": {
          "base_uri": "https://localhost:8080/"
        },
        "id": "s3e68bALill-",
        "outputId": "d0ec28c3-07d4-439d-fcb9-7ba6586b2908"
      },
      "execution_count": 37,
      "outputs": [
        {
          "output_type": "stream",
          "name": "stdout",
          "text": [
            "/content/drive/MyDrive/Colab Notebooks/DeepLearning\n"
          ]
        }
      ]
    },
    {
      "cell_type": "code",
      "source": [
        "# 다시 현재 폴더 경로 확인\n",
        "!pwd"
      ],
      "metadata": {
        "colab": {
          "base_uri": "https://localhost:8080/"
        },
        "id": "dqU5SgA-ilt4",
        "outputId": "246e6c31-5e2f-43b1-fea4-17e4231c62b2"
      },
      "execution_count": 38,
      "outputs": [
        {
          "output_type": "stream",
          "name": "stdout",
          "text": [
            "/content/drive/MyDrive/Colab Notebooks/DeepLearning\n"
          ]
        }
      ]
    },
    {
      "cell_type": "markdown",
      "source": [
        "### 목표\n",
        "- 공부시간에 따른 수학 성적을 예측하는 회귀모델을 만들어보자\n",
        "- keras 활용해서 신경망 구성하는 방법을 연습해보자"
      ],
      "metadata": {
        "id": "fP5tk1Mhil16"
      }
    },
    {
      "cell_type": "code",
      "source": [
        "import numpy as np\n",
        "import pandas as pd\n",
        "import matplotlib.pyplot as plt"
      ],
      "metadata": {
        "id": "_QBTxNYcil9s"
      },
      "execution_count": 39,
      "outputs": []
    },
    {
      "cell_type": "code",
      "source": [
        "# 데이터 불러오기\n",
        "data = pd.read_csv('./data/student-mat.csv', delimiter=';')\n",
        "data"
      ],
      "metadata": {
        "colab": {
          "base_uri": "https://localhost:8080/",
          "height": 423
        },
        "id": "0-Wok65MimFU",
        "outputId": "461df387-5b69-4a0c-eec7-678a941e3fd6"
      },
      "execution_count": 40,
      "outputs": [
        {
          "output_type": "execute_result",
          "data": {
            "text/plain": [
              "    school sex  age address famsize Pstatus  Medu  Fedu      Mjob      Fjob  \\\n",
              "0       GP   F   18       U     GT3       A     4     4   at_home   teacher   \n",
              "1       GP   F   17       U     GT3       T     1     1   at_home     other   \n",
              "2       GP   F   15       U     LE3       T     1     1   at_home     other   \n",
              "3       GP   F   15       U     GT3       T     4     2    health  services   \n",
              "4       GP   F   16       U     GT3       T     3     3     other     other   \n",
              "..     ...  ..  ...     ...     ...     ...   ...   ...       ...       ...   \n",
              "390     MS   M   20       U     LE3       A     2     2  services  services   \n",
              "391     MS   M   17       U     LE3       T     3     1  services  services   \n",
              "392     MS   M   21       R     GT3       T     1     1     other     other   \n",
              "393     MS   M   18       R     LE3       T     3     2  services     other   \n",
              "394     MS   M   19       U     LE3       T     1     1     other   at_home   \n",
              "\n",
              "     ... famrel freetime  goout  Dalc  Walc health absences  G1  G2  G3  \n",
              "0    ...      4        3      4     1     1      3        6   5   6   6  \n",
              "1    ...      5        3      3     1     1      3        4   5   5   6  \n",
              "2    ...      4        3      2     2     3      3       10   7   8  10  \n",
              "3    ...      3        2      2     1     1      5        2  15  14  15  \n",
              "4    ...      4        3      2     1     2      5        4   6  10  10  \n",
              "..   ...    ...      ...    ...   ...   ...    ...      ...  ..  ..  ..  \n",
              "390  ...      5        5      4     4     5      4       11   9   9   9  \n",
              "391  ...      2        4      5     3     4      2        3  14  16  16  \n",
              "392  ...      5        5      3     3     3      3        3  10   8   7  \n",
              "393  ...      4        4      1     3     4      5        0  11  12  10  \n",
              "394  ...      3        2      3     3     3      5        5   8   9   9  \n",
              "\n",
              "[395 rows x 33 columns]"
            ],
            "text/html": [
              "\n",
              "  <div id=\"df-4a288e04-951d-49bb-b353-55b970c05d05\" class=\"colab-df-container\">\n",
              "    <div>\n",
              "<style scoped>\n",
              "    .dataframe tbody tr th:only-of-type {\n",
              "        vertical-align: middle;\n",
              "    }\n",
              "\n",
              "    .dataframe tbody tr th {\n",
              "        vertical-align: top;\n",
              "    }\n",
              "\n",
              "    .dataframe thead th {\n",
              "        text-align: right;\n",
              "    }\n",
              "</style>\n",
              "<table border=\"1\" class=\"dataframe\">\n",
              "  <thead>\n",
              "    <tr style=\"text-align: right;\">\n",
              "      <th></th>\n",
              "      <th>school</th>\n",
              "      <th>sex</th>\n",
              "      <th>age</th>\n",
              "      <th>address</th>\n",
              "      <th>famsize</th>\n",
              "      <th>Pstatus</th>\n",
              "      <th>Medu</th>\n",
              "      <th>Fedu</th>\n",
              "      <th>Mjob</th>\n",
              "      <th>Fjob</th>\n",
              "      <th>...</th>\n",
              "      <th>famrel</th>\n",
              "      <th>freetime</th>\n",
              "      <th>goout</th>\n",
              "      <th>Dalc</th>\n",
              "      <th>Walc</th>\n",
              "      <th>health</th>\n",
              "      <th>absences</th>\n",
              "      <th>G1</th>\n",
              "      <th>G2</th>\n",
              "      <th>G3</th>\n",
              "    </tr>\n",
              "  </thead>\n",
              "  <tbody>\n",
              "    <tr>\n",
              "      <th>0</th>\n",
              "      <td>GP</td>\n",
              "      <td>F</td>\n",
              "      <td>18</td>\n",
              "      <td>U</td>\n",
              "      <td>GT3</td>\n",
              "      <td>A</td>\n",
              "      <td>4</td>\n",
              "      <td>4</td>\n",
              "      <td>at_home</td>\n",
              "      <td>teacher</td>\n",
              "      <td>...</td>\n",
              "      <td>4</td>\n",
              "      <td>3</td>\n",
              "      <td>4</td>\n",
              "      <td>1</td>\n",
              "      <td>1</td>\n",
              "      <td>3</td>\n",
              "      <td>6</td>\n",
              "      <td>5</td>\n",
              "      <td>6</td>\n",
              "      <td>6</td>\n",
              "    </tr>\n",
              "    <tr>\n",
              "      <th>1</th>\n",
              "      <td>GP</td>\n",
              "      <td>F</td>\n",
              "      <td>17</td>\n",
              "      <td>U</td>\n",
              "      <td>GT3</td>\n",
              "      <td>T</td>\n",
              "      <td>1</td>\n",
              "      <td>1</td>\n",
              "      <td>at_home</td>\n",
              "      <td>other</td>\n",
              "      <td>...</td>\n",
              "      <td>5</td>\n",
              "      <td>3</td>\n",
              "      <td>3</td>\n",
              "      <td>1</td>\n",
              "      <td>1</td>\n",
              "      <td>3</td>\n",
              "      <td>4</td>\n",
              "      <td>5</td>\n",
              "      <td>5</td>\n",
              "      <td>6</td>\n",
              "    </tr>\n",
              "    <tr>\n",
              "      <th>2</th>\n",
              "      <td>GP</td>\n",
              "      <td>F</td>\n",
              "      <td>15</td>\n",
              "      <td>U</td>\n",
              "      <td>LE3</td>\n",
              "      <td>T</td>\n",
              "      <td>1</td>\n",
              "      <td>1</td>\n",
              "      <td>at_home</td>\n",
              "      <td>other</td>\n",
              "      <td>...</td>\n",
              "      <td>4</td>\n",
              "      <td>3</td>\n",
              "      <td>2</td>\n",
              "      <td>2</td>\n",
              "      <td>3</td>\n",
              "      <td>3</td>\n",
              "      <td>10</td>\n",
              "      <td>7</td>\n",
              "      <td>8</td>\n",
              "      <td>10</td>\n",
              "    </tr>\n",
              "    <tr>\n",
              "      <th>3</th>\n",
              "      <td>GP</td>\n",
              "      <td>F</td>\n",
              "      <td>15</td>\n",
              "      <td>U</td>\n",
              "      <td>GT3</td>\n",
              "      <td>T</td>\n",
              "      <td>4</td>\n",
              "      <td>2</td>\n",
              "      <td>health</td>\n",
              "      <td>services</td>\n",
              "      <td>...</td>\n",
              "      <td>3</td>\n",
              "      <td>2</td>\n",
              "      <td>2</td>\n",
              "      <td>1</td>\n",
              "      <td>1</td>\n",
              "      <td>5</td>\n",
              "      <td>2</td>\n",
              "      <td>15</td>\n",
              "      <td>14</td>\n",
              "      <td>15</td>\n",
              "    </tr>\n",
              "    <tr>\n",
              "      <th>4</th>\n",
              "      <td>GP</td>\n",
              "      <td>F</td>\n",
              "      <td>16</td>\n",
              "      <td>U</td>\n",
              "      <td>GT3</td>\n",
              "      <td>T</td>\n",
              "      <td>3</td>\n",
              "      <td>3</td>\n",
              "      <td>other</td>\n",
              "      <td>other</td>\n",
              "      <td>...</td>\n",
              "      <td>4</td>\n",
              "      <td>3</td>\n",
              "      <td>2</td>\n",
              "      <td>1</td>\n",
              "      <td>2</td>\n",
              "      <td>5</td>\n",
              "      <td>4</td>\n",
              "      <td>6</td>\n",
              "      <td>10</td>\n",
              "      <td>10</td>\n",
              "    </tr>\n",
              "    <tr>\n",
              "      <th>...</th>\n",
              "      <td>...</td>\n",
              "      <td>...</td>\n",
              "      <td>...</td>\n",
              "      <td>...</td>\n",
              "      <td>...</td>\n",
              "      <td>...</td>\n",
              "      <td>...</td>\n",
              "      <td>...</td>\n",
              "      <td>...</td>\n",
              "      <td>...</td>\n",
              "      <td>...</td>\n",
              "      <td>...</td>\n",
              "      <td>...</td>\n",
              "      <td>...</td>\n",
              "      <td>...</td>\n",
              "      <td>...</td>\n",
              "      <td>...</td>\n",
              "      <td>...</td>\n",
              "      <td>...</td>\n",
              "      <td>...</td>\n",
              "      <td>...</td>\n",
              "    </tr>\n",
              "    <tr>\n",
              "      <th>390</th>\n",
              "      <td>MS</td>\n",
              "      <td>M</td>\n",
              "      <td>20</td>\n",
              "      <td>U</td>\n",
              "      <td>LE3</td>\n",
              "      <td>A</td>\n",
              "      <td>2</td>\n",
              "      <td>2</td>\n",
              "      <td>services</td>\n",
              "      <td>services</td>\n",
              "      <td>...</td>\n",
              "      <td>5</td>\n",
              "      <td>5</td>\n",
              "      <td>4</td>\n",
              "      <td>4</td>\n",
              "      <td>5</td>\n",
              "      <td>4</td>\n",
              "      <td>11</td>\n",
              "      <td>9</td>\n",
              "      <td>9</td>\n",
              "      <td>9</td>\n",
              "    </tr>\n",
              "    <tr>\n",
              "      <th>391</th>\n",
              "      <td>MS</td>\n",
              "      <td>M</td>\n",
              "      <td>17</td>\n",
              "      <td>U</td>\n",
              "      <td>LE3</td>\n",
              "      <td>T</td>\n",
              "      <td>3</td>\n",
              "      <td>1</td>\n",
              "      <td>services</td>\n",
              "      <td>services</td>\n",
              "      <td>...</td>\n",
              "      <td>2</td>\n",
              "      <td>4</td>\n",
              "      <td>5</td>\n",
              "      <td>3</td>\n",
              "      <td>4</td>\n",
              "      <td>2</td>\n",
              "      <td>3</td>\n",
              "      <td>14</td>\n",
              "      <td>16</td>\n",
              "      <td>16</td>\n",
              "    </tr>\n",
              "    <tr>\n",
              "      <th>392</th>\n",
              "      <td>MS</td>\n",
              "      <td>M</td>\n",
              "      <td>21</td>\n",
              "      <td>R</td>\n",
              "      <td>GT3</td>\n",
              "      <td>T</td>\n",
              "      <td>1</td>\n",
              "      <td>1</td>\n",
              "      <td>other</td>\n",
              "      <td>other</td>\n",
              "      <td>...</td>\n",
              "      <td>5</td>\n",
              "      <td>5</td>\n",
              "      <td>3</td>\n",
              "      <td>3</td>\n",
              "      <td>3</td>\n",
              "      <td>3</td>\n",
              "      <td>3</td>\n",
              "      <td>10</td>\n",
              "      <td>8</td>\n",
              "      <td>7</td>\n",
              "    </tr>\n",
              "    <tr>\n",
              "      <th>393</th>\n",
              "      <td>MS</td>\n",
              "      <td>M</td>\n",
              "      <td>18</td>\n",
              "      <td>R</td>\n",
              "      <td>LE3</td>\n",
              "      <td>T</td>\n",
              "      <td>3</td>\n",
              "      <td>2</td>\n",
              "      <td>services</td>\n",
              "      <td>other</td>\n",
              "      <td>...</td>\n",
              "      <td>4</td>\n",
              "      <td>4</td>\n",
              "      <td>1</td>\n",
              "      <td>3</td>\n",
              "      <td>4</td>\n",
              "      <td>5</td>\n",
              "      <td>0</td>\n",
              "      <td>11</td>\n",
              "      <td>12</td>\n",
              "      <td>10</td>\n",
              "    </tr>\n",
              "    <tr>\n",
              "      <th>394</th>\n",
              "      <td>MS</td>\n",
              "      <td>M</td>\n",
              "      <td>19</td>\n",
              "      <td>U</td>\n",
              "      <td>LE3</td>\n",
              "      <td>T</td>\n",
              "      <td>1</td>\n",
              "      <td>1</td>\n",
              "      <td>other</td>\n",
              "      <td>at_home</td>\n",
              "      <td>...</td>\n",
              "      <td>3</td>\n",
              "      <td>2</td>\n",
              "      <td>3</td>\n",
              "      <td>3</td>\n",
              "      <td>3</td>\n",
              "      <td>5</td>\n",
              "      <td>5</td>\n",
              "      <td>8</td>\n",
              "      <td>9</td>\n",
              "      <td>9</td>\n",
              "    </tr>\n",
              "  </tbody>\n",
              "</table>\n",
              "<p>395 rows × 33 columns</p>\n",
              "</div>\n",
              "    <div class=\"colab-df-buttons\">\n",
              "\n",
              "  <div class=\"colab-df-container\">\n",
              "    <button class=\"colab-df-convert\" onclick=\"convertToInteractive('df-4a288e04-951d-49bb-b353-55b970c05d05')\"\n",
              "            title=\"Convert this dataframe to an interactive table.\"\n",
              "            style=\"display:none;\">\n",
              "\n",
              "  <svg xmlns=\"http://www.w3.org/2000/svg\" height=\"24px\" viewBox=\"0 -960 960 960\">\n",
              "    <path d=\"M120-120v-720h720v720H120Zm60-500h600v-160H180v160Zm220 220h160v-160H400v160Zm0 220h160v-160H400v160ZM180-400h160v-160H180v160Zm440 0h160v-160H620v160ZM180-180h160v-160H180v160Zm440 0h160v-160H620v160Z\"/>\n",
              "  </svg>\n",
              "    </button>\n",
              "\n",
              "  <style>\n",
              "    .colab-df-container {\n",
              "      display:flex;\n",
              "      gap: 12px;\n",
              "    }\n",
              "\n",
              "    .colab-df-convert {\n",
              "      background-color: #E8F0FE;\n",
              "      border: none;\n",
              "      border-radius: 50%;\n",
              "      cursor: pointer;\n",
              "      display: none;\n",
              "      fill: #1967D2;\n",
              "      height: 32px;\n",
              "      padding: 0 0 0 0;\n",
              "      width: 32px;\n",
              "    }\n",
              "\n",
              "    .colab-df-convert:hover {\n",
              "      background-color: #E2EBFA;\n",
              "      box-shadow: 0px 1px 2px rgba(60, 64, 67, 0.3), 0px 1px 3px 1px rgba(60, 64, 67, 0.15);\n",
              "      fill: #174EA6;\n",
              "    }\n",
              "\n",
              "    .colab-df-buttons div {\n",
              "      margin-bottom: 4px;\n",
              "    }\n",
              "\n",
              "    [theme=dark] .colab-df-convert {\n",
              "      background-color: #3B4455;\n",
              "      fill: #D2E3FC;\n",
              "    }\n",
              "\n",
              "    [theme=dark] .colab-df-convert:hover {\n",
              "      background-color: #434B5C;\n",
              "      box-shadow: 0px 1px 3px 1px rgba(0, 0, 0, 0.15);\n",
              "      filter: drop-shadow(0px 1px 2px rgba(0, 0, 0, 0.3));\n",
              "      fill: #FFFFFF;\n",
              "    }\n",
              "  </style>\n",
              "\n",
              "    <script>\n",
              "      const buttonEl =\n",
              "        document.querySelector('#df-4a288e04-951d-49bb-b353-55b970c05d05 button.colab-df-convert');\n",
              "      buttonEl.style.display =\n",
              "        google.colab.kernel.accessAllowed ? 'block' : 'none';\n",
              "\n",
              "      async function convertToInteractive(key) {\n",
              "        const element = document.querySelector('#df-4a288e04-951d-49bb-b353-55b970c05d05');\n",
              "        const dataTable =\n",
              "          await google.colab.kernel.invokeFunction('convertToInteractive',\n",
              "                                                    [key], {});\n",
              "        if (!dataTable) return;\n",
              "\n",
              "        const docLinkHtml = 'Like what you see? Visit the ' +\n",
              "          '<a target=\"_blank\" href=https://colab.research.google.com/notebooks/data_table.ipynb>data table notebook</a>'\n",
              "          + ' to learn more about interactive tables.';\n",
              "        element.innerHTML = '';\n",
              "        dataTable['output_type'] = 'display_data';\n",
              "        await google.colab.output.renderOutput(dataTable, element);\n",
              "        const docLink = document.createElement('div');\n",
              "        docLink.innerHTML = docLinkHtml;\n",
              "        element.appendChild(docLink);\n",
              "      }\n",
              "    </script>\n",
              "  </div>\n",
              "\n",
              "\n",
              "<div id=\"df-a5025ac8-f1a9-4594-8db5-e219ebb37e17\">\n",
              "  <button class=\"colab-df-quickchart\" onclick=\"quickchart('df-a5025ac8-f1a9-4594-8db5-e219ebb37e17')\"\n",
              "            title=\"Suggest charts.\"\n",
              "            style=\"display:none;\">\n",
              "\n",
              "<svg xmlns=\"http://www.w3.org/2000/svg\" height=\"24px\"viewBox=\"0 0 24 24\"\n",
              "     width=\"24px\">\n",
              "    <g>\n",
              "        <path d=\"M19 3H5c-1.1 0-2 .9-2 2v14c0 1.1.9 2 2 2h14c1.1 0 2-.9 2-2V5c0-1.1-.9-2-2-2zM9 17H7v-7h2v7zm4 0h-2V7h2v10zm4 0h-2v-4h2v4z\"/>\n",
              "    </g>\n",
              "</svg>\n",
              "  </button>\n",
              "\n",
              "<style>\n",
              "  .colab-df-quickchart {\n",
              "      --bg-color: #E8F0FE;\n",
              "      --fill-color: #1967D2;\n",
              "      --hover-bg-color: #E2EBFA;\n",
              "      --hover-fill-color: #174EA6;\n",
              "      --disabled-fill-color: #AAA;\n",
              "      --disabled-bg-color: #DDD;\n",
              "  }\n",
              "\n",
              "  [theme=dark] .colab-df-quickchart {\n",
              "      --bg-color: #3B4455;\n",
              "      --fill-color: #D2E3FC;\n",
              "      --hover-bg-color: #434B5C;\n",
              "      --hover-fill-color: #FFFFFF;\n",
              "      --disabled-bg-color: #3B4455;\n",
              "      --disabled-fill-color: #666;\n",
              "  }\n",
              "\n",
              "  .colab-df-quickchart {\n",
              "    background-color: var(--bg-color);\n",
              "    border: none;\n",
              "    border-radius: 50%;\n",
              "    cursor: pointer;\n",
              "    display: none;\n",
              "    fill: var(--fill-color);\n",
              "    height: 32px;\n",
              "    padding: 0;\n",
              "    width: 32px;\n",
              "  }\n",
              "\n",
              "  .colab-df-quickchart:hover {\n",
              "    background-color: var(--hover-bg-color);\n",
              "    box-shadow: 0 1px 2px rgba(60, 64, 67, 0.3), 0 1px 3px 1px rgba(60, 64, 67, 0.15);\n",
              "    fill: var(--button-hover-fill-color);\n",
              "  }\n",
              "\n",
              "  .colab-df-quickchart-complete:disabled,\n",
              "  .colab-df-quickchart-complete:disabled:hover {\n",
              "    background-color: var(--disabled-bg-color);\n",
              "    fill: var(--disabled-fill-color);\n",
              "    box-shadow: none;\n",
              "  }\n",
              "\n",
              "  .colab-df-spinner {\n",
              "    border: 2px solid var(--fill-color);\n",
              "    border-color: transparent;\n",
              "    border-bottom-color: var(--fill-color);\n",
              "    animation:\n",
              "      spin 1s steps(1) infinite;\n",
              "  }\n",
              "\n",
              "  @keyframes spin {\n",
              "    0% {\n",
              "      border-color: transparent;\n",
              "      border-bottom-color: var(--fill-color);\n",
              "      border-left-color: var(--fill-color);\n",
              "    }\n",
              "    20% {\n",
              "      border-color: transparent;\n",
              "      border-left-color: var(--fill-color);\n",
              "      border-top-color: var(--fill-color);\n",
              "    }\n",
              "    30% {\n",
              "      border-color: transparent;\n",
              "      border-left-color: var(--fill-color);\n",
              "      border-top-color: var(--fill-color);\n",
              "      border-right-color: var(--fill-color);\n",
              "    }\n",
              "    40% {\n",
              "      border-color: transparent;\n",
              "      border-right-color: var(--fill-color);\n",
              "      border-top-color: var(--fill-color);\n",
              "    }\n",
              "    60% {\n",
              "      border-color: transparent;\n",
              "      border-right-color: var(--fill-color);\n",
              "    }\n",
              "    80% {\n",
              "      border-color: transparent;\n",
              "      border-right-color: var(--fill-color);\n",
              "      border-bottom-color: var(--fill-color);\n",
              "    }\n",
              "    90% {\n",
              "      border-color: transparent;\n",
              "      border-bottom-color: var(--fill-color);\n",
              "    }\n",
              "  }\n",
              "</style>\n",
              "\n",
              "  <script>\n",
              "    async function quickchart(key) {\n",
              "      const quickchartButtonEl =\n",
              "        document.querySelector('#' + key + ' button');\n",
              "      quickchartButtonEl.disabled = true;  // To prevent multiple clicks.\n",
              "      quickchartButtonEl.classList.add('colab-df-spinner');\n",
              "      try {\n",
              "        const charts = await google.colab.kernel.invokeFunction(\n",
              "            'suggestCharts', [key], {});\n",
              "      } catch (error) {\n",
              "        console.error('Error during call to suggestCharts:', error);\n",
              "      }\n",
              "      quickchartButtonEl.classList.remove('colab-df-spinner');\n",
              "      quickchartButtonEl.classList.add('colab-df-quickchart-complete');\n",
              "    }\n",
              "    (() => {\n",
              "      let quickchartButtonEl =\n",
              "        document.querySelector('#df-a5025ac8-f1a9-4594-8db5-e219ebb37e17 button');\n",
              "      quickchartButtonEl.style.display =\n",
              "        google.colab.kernel.accessAllowed ? 'block' : 'none';\n",
              "    })();\n",
              "  </script>\n",
              "</div>\n",
              "    </div>\n",
              "  </div>\n"
            ]
          },
          "metadata": {},
          "execution_count": 40
        }
      ]
    },
    {
      "cell_type": "code",
      "source": [
        "# 데이터 정보확인\n",
        "data.info()"
      ],
      "metadata": {
        "colab": {
          "base_uri": "https://localhost:8080/"
        },
        "id": "EPjwBb4NimMv",
        "outputId": "7eea5ddf-a665-4cdb-a189-57c9c456702a"
      },
      "execution_count": 41,
      "outputs": [
        {
          "output_type": "stream",
          "name": "stdout",
          "text": [
            "<class 'pandas.core.frame.DataFrame'>\n",
            "RangeIndex: 395 entries, 0 to 394\n",
            "Data columns (total 33 columns):\n",
            " #   Column      Non-Null Count  Dtype \n",
            "---  ------      --------------  ----- \n",
            " 0   school      395 non-null    object\n",
            " 1   sex         395 non-null    object\n",
            " 2   age         395 non-null    int64 \n",
            " 3   address     395 non-null    object\n",
            " 4   famsize     395 non-null    object\n",
            " 5   Pstatus     395 non-null    object\n",
            " 6   Medu        395 non-null    int64 \n",
            " 7   Fedu        395 non-null    int64 \n",
            " 8   Mjob        395 non-null    object\n",
            " 9   Fjob        395 non-null    object\n",
            " 10  reason      395 non-null    object\n",
            " 11  guardian    395 non-null    object\n",
            " 12  traveltime  395 non-null    int64 \n",
            " 13  studytime   395 non-null    int64 \n",
            " 14  failures    395 non-null    int64 \n",
            " 15  schoolsup   395 non-null    object\n",
            " 16  famsup      395 non-null    object\n",
            " 17  paid        395 non-null    object\n",
            " 18  activities  395 non-null    object\n",
            " 19  nursery     395 non-null    object\n",
            " 20  higher      395 non-null    object\n",
            " 21  internet    395 non-null    object\n",
            " 22  romantic    395 non-null    object\n",
            " 23  famrel      395 non-null    int64 \n",
            " 24  freetime    395 non-null    int64 \n",
            " 25  goout       395 non-null    int64 \n",
            " 26  Dalc        395 non-null    int64 \n",
            " 27  Walc        395 non-null    int64 \n",
            " 28  health      395 non-null    int64 \n",
            " 29  absences    395 non-null    int64 \n",
            " 30  G1          395 non-null    int64 \n",
            " 31  G2          395 non-null    int64 \n",
            " 32  G3          395 non-null    int64 \n",
            "dtypes: int64(16), object(17)\n",
            "memory usage: 102.0+ KB\n"
          ]
        }
      ]
    },
    {
      "cell_type": "markdown",
      "source": [
        "### 문제와 답으로 분리\n",
        "- 입력특성: 1개(studytime)\n",
        "- 정답: G3\n"
      ],
      "metadata": {
        "id": "RBsITwqhimUj"
      }
    },
    {
      "cell_type": "code",
      "source": [
        "# 문제데이터 (X)\n",
        "X = data['studytime']\n",
        "# 정답데이터 (y)\n",
        "y = data['G3']"
      ],
      "metadata": {
        "id": "OiVV3zVuimax"
      },
      "execution_count": 42,
      "outputs": []
    },
    {
      "cell_type": "code",
      "source": [
        "from sklearn.model_selection import train_test_split"
      ],
      "metadata": {
        "id": "bdLID7xJr-dI"
      },
      "execution_count": 43,
      "outputs": []
    },
    {
      "cell_type": "code",
      "source": [
        "# train,test 분리\n",
        "X_train, X_test, y_train, y_test = train_test_split(X,y,\n",
        "                                                    random_state=915,\n",
        "                                                    test_size = 0.2)"
      ],
      "metadata": {
        "id": "zfWIr232r-vn"
      },
      "execution_count": 44,
      "outputs": []
    },
    {
      "cell_type": "code",
      "source": [
        "# 크기확인\n",
        "X_train.shape, y_train.shape"
      ],
      "metadata": {
        "colab": {
          "base_uri": "https://localhost:8080/"
        },
        "id": "VtFEaSpgr-7G",
        "outputId": "febf1d7f-f558-4e52-eb69-db5b840b8233"
      },
      "execution_count": 45,
      "outputs": [
        {
          "output_type": "execute_result",
          "data": {
            "text/plain": [
              "((316,), (316,))"
            ]
          },
          "metadata": {},
          "execution_count": 45
        }
      ]
    },
    {
      "cell_type": "code",
      "source": [
        "X_test.shape, y_test.shape"
      ],
      "metadata": {
        "colab": {
          "base_uri": "https://localhost:8080/"
        },
        "id": "h2yvw_UPr_BO",
        "outputId": "1447bc55-ff8e-4716-8cfd-5a38d54a1861"
      },
      "execution_count": 46,
      "outputs": [
        {
          "output_type": "execute_result",
          "data": {
            "text/plain": [
              "((79,), (79,))"
            ]
          },
          "metadata": {},
          "execution_count": 46
        }
      ]
    },
    {
      "cell_type": "markdown",
      "source": [
        "### 머신러닝 모델과 딥러닝 모델의 차이점\n",
        "- 머신러닝\n",
        "  - 완제품 장난감: 팔정도만 움직일 수 있음(하이퍼파라미터만 조절이 가능한 것)\n",
        "  - 모델생성(완성된 객체 사용) -> 모델학습 -> 모델예측 -> 모델평가\n",
        "\n",
        "- 딥러닝\n",
        "  - 레고블럭: 다양한 구성이 가능\n",
        "  - 모델생성(모델을 직접 구성) -> 모델학습 -> 모델예측 -> 모델평가"
      ],
      "metadata": {
        "id": "5Uzyh5UMr_H-"
      }
    },
    {
      "cell_type": "markdown",
      "source": [
        "### 머신러닝 모델링(선형회귀모델)"
      ],
      "metadata": {
        "id": "c9v-lkPbr_M5"
      }
    },
    {
      "cell_type": "code",
      "source": [
        "from sklearn.linear_model import LinearRegression  # 선형회귀\n",
        "from sklearn.metrics import mean_squared_error  # 회귀모델의 평가지표 도구"
      ],
      "metadata": {
        "id": "eJN3WOCCr_Qi"
      },
      "execution_count": 47,
      "outputs": []
    },
    {
      "cell_type": "code",
      "source": [
        "from sklearn import linear_model\n",
        "# 1. 모델 생성\n",
        "linear_model = LinearRegression()\n",
        "\n",
        "# 2. 모델 학습 (학습용 문제, 학습용 정답)\n",
        "linear_model.fit(X_train.values.reshape(-1,1), y_train)\n",
        "\n",
        "# 3. 모델 예측 (테스트용 문제)\n",
        "linear_pre = linear_model.predict(X_test.values.reshape(-1,1))\n",
        "\n",
        "# 4. 모델 평가 (실제값, 예측값)\n",
        "mean_squared_error(y_test, linear_pre)"
      ],
      "metadata": {
        "colab": {
          "base_uri": "https://localhost:8080/"
        },
        "id": "WFHUWNswr_Tq",
        "outputId": "e98f2cbe-70f5-4afb-ee28-ac392a2fcb40"
      },
      "execution_count": 48,
      "outputs": [
        {
          "output_type": "execute_result",
          "data": {
            "text/plain": [
              "24.058078771701606"
            ]
          },
          "metadata": {},
          "execution_count": 48
        }
      ]
    },
    {
      "cell_type": "code",
      "source": [
        "X_train.values.reshape(-1,1)"
      ],
      "metadata": {
        "id": "sx8Y97aAr_Wk",
        "colab": {
          "base_uri": "https://localhost:8080/"
        },
        "outputId": "7a0af0e3-e1b5-495a-f0df-f8e674991ca6"
      },
      "execution_count": 49,
      "outputs": [
        {
          "output_type": "execute_result",
          "data": {
            "text/plain": [
              "array([[1],\n",
              "       [1],\n",
              "       [1],\n",
              "       [2],\n",
              "       [1],\n",
              "       [4],\n",
              "       [1],\n",
              "       [2],\n",
              "       [2],\n",
              "       [1],\n",
              "       [1],\n",
              "       [3],\n",
              "       [2],\n",
              "       [1],\n",
              "       [2],\n",
              "       [2],\n",
              "       [2],\n",
              "       [2],\n",
              "       [2],\n",
              "       [3],\n",
              "       [2],\n",
              "       [1],\n",
              "       [2],\n",
              "       [3],\n",
              "       [4],\n",
              "       [3],\n",
              "       [2],\n",
              "       [1],\n",
              "       [1],\n",
              "       [2],\n",
              "       [2],\n",
              "       [1],\n",
              "       [2],\n",
              "       [2],\n",
              "       [2],\n",
              "       [2],\n",
              "       [1],\n",
              "       [2],\n",
              "       [2],\n",
              "       [2],\n",
              "       [2],\n",
              "       [2],\n",
              "       [1],\n",
              "       [2],\n",
              "       [2],\n",
              "       [2],\n",
              "       [1],\n",
              "       [1],\n",
              "       [4],\n",
              "       [3],\n",
              "       [3],\n",
              "       [2],\n",
              "       [1],\n",
              "       [1],\n",
              "       [2],\n",
              "       [3],\n",
              "       [2],\n",
              "       [2],\n",
              "       [2],\n",
              "       [2],\n",
              "       [1],\n",
              "       [3],\n",
              "       [2],\n",
              "       [2],\n",
              "       [2],\n",
              "       [2],\n",
              "       [1],\n",
              "       [2],\n",
              "       [1],\n",
              "       [3],\n",
              "       [1],\n",
              "       [2],\n",
              "       [1],\n",
              "       [3],\n",
              "       [1],\n",
              "       [4],\n",
              "       [3],\n",
              "       [2],\n",
              "       [2],\n",
              "       [2],\n",
              "       [2],\n",
              "       [1],\n",
              "       [2],\n",
              "       [1],\n",
              "       [2],\n",
              "       [2],\n",
              "       [1],\n",
              "       [2],\n",
              "       [2],\n",
              "       [2],\n",
              "       [2],\n",
              "       [2],\n",
              "       [4],\n",
              "       [2],\n",
              "       [1],\n",
              "       [1],\n",
              "       [1],\n",
              "       [2],\n",
              "       [1],\n",
              "       [1],\n",
              "       [2],\n",
              "       [2],\n",
              "       [4],\n",
              "       [2],\n",
              "       [1],\n",
              "       [2],\n",
              "       [2],\n",
              "       [4],\n",
              "       [2],\n",
              "       [2],\n",
              "       [1],\n",
              "       [2],\n",
              "       [1],\n",
              "       [4],\n",
              "       [1],\n",
              "       [3],\n",
              "       [3],\n",
              "       [2],\n",
              "       [2],\n",
              "       [2],\n",
              "       [2],\n",
              "       [4],\n",
              "       [1],\n",
              "       [2],\n",
              "       [2],\n",
              "       [1],\n",
              "       [4],\n",
              "       [2],\n",
              "       [1],\n",
              "       [1],\n",
              "       [2],\n",
              "       [1],\n",
              "       [2],\n",
              "       [4],\n",
              "       [2],\n",
              "       [1],\n",
              "       [3],\n",
              "       [2],\n",
              "       [1],\n",
              "       [2],\n",
              "       [2],\n",
              "       [2],\n",
              "       [3],\n",
              "       [3],\n",
              "       [3],\n",
              "       [1],\n",
              "       [2],\n",
              "       [1],\n",
              "       [2],\n",
              "       [2],\n",
              "       [2],\n",
              "       [2],\n",
              "       [3],\n",
              "       [2],\n",
              "       [3],\n",
              "       [1],\n",
              "       [3],\n",
              "       [2],\n",
              "       [2],\n",
              "       [1],\n",
              "       [1],\n",
              "       [2],\n",
              "       [2],\n",
              "       [1],\n",
              "       [2],\n",
              "       [1],\n",
              "       [2],\n",
              "       [1],\n",
              "       [1],\n",
              "       [2],\n",
              "       [1],\n",
              "       [3],\n",
              "       [2],\n",
              "       [2],\n",
              "       [4],\n",
              "       [1],\n",
              "       [4],\n",
              "       [1],\n",
              "       [2],\n",
              "       [2],\n",
              "       [3],\n",
              "       [2],\n",
              "       [2],\n",
              "       [1],\n",
              "       [2],\n",
              "       [2],\n",
              "       [1],\n",
              "       [1],\n",
              "       [2],\n",
              "       [2],\n",
              "       [2],\n",
              "       [2],\n",
              "       [2],\n",
              "       [3],\n",
              "       [1],\n",
              "       [1],\n",
              "       [2],\n",
              "       [2],\n",
              "       [2],\n",
              "       [4],\n",
              "       [1],\n",
              "       [3],\n",
              "       [2],\n",
              "       [3],\n",
              "       [3],\n",
              "       [2],\n",
              "       [1],\n",
              "       [2],\n",
              "       [2],\n",
              "       [1],\n",
              "       [4],\n",
              "       [2],\n",
              "       [2],\n",
              "       [2],\n",
              "       [2],\n",
              "       [2],\n",
              "       [2],\n",
              "       [3],\n",
              "       [1],\n",
              "       [3],\n",
              "       [2],\n",
              "       [3],\n",
              "       [1],\n",
              "       [2],\n",
              "       [2],\n",
              "       [3],\n",
              "       [3],\n",
              "       [1],\n",
              "       [3],\n",
              "       [2],\n",
              "       [2],\n",
              "       [3],\n",
              "       [2],\n",
              "       [2],\n",
              "       [3],\n",
              "       [2],\n",
              "       [1],\n",
              "       [1],\n",
              "       [1],\n",
              "       [2],\n",
              "       [2],\n",
              "       [1],\n",
              "       [2],\n",
              "       [4],\n",
              "       [3],\n",
              "       [3],\n",
              "       [2],\n",
              "       [1],\n",
              "       [1],\n",
              "       [2],\n",
              "       [2],\n",
              "       [3],\n",
              "       [1],\n",
              "       [3],\n",
              "       [1],\n",
              "       [1],\n",
              "       [3],\n",
              "       [1],\n",
              "       [2],\n",
              "       [2],\n",
              "       [2],\n",
              "       [1],\n",
              "       [3],\n",
              "       [2],\n",
              "       [3],\n",
              "       [2],\n",
              "       [1],\n",
              "       [2],\n",
              "       [3],\n",
              "       [4],\n",
              "       [1],\n",
              "       [2],\n",
              "       [1],\n",
              "       [2],\n",
              "       [1],\n",
              "       [3],\n",
              "       [1],\n",
              "       [2],\n",
              "       [2],\n",
              "       [1],\n",
              "       [2],\n",
              "       [3],\n",
              "       [2],\n",
              "       [3],\n",
              "       [2],\n",
              "       [1],\n",
              "       [4],\n",
              "       [3],\n",
              "       [2],\n",
              "       [4],\n",
              "       [2],\n",
              "       [1],\n",
              "       [3],\n",
              "       [1],\n",
              "       [3],\n",
              "       [3],\n",
              "       [2],\n",
              "       [2],\n",
              "       [3],\n",
              "       [2],\n",
              "       [2],\n",
              "       [3],\n",
              "       [2],\n",
              "       [1],\n",
              "       [4],\n",
              "       [2],\n",
              "       [2],\n",
              "       [2],\n",
              "       [2],\n",
              "       [2],\n",
              "       [2],\n",
              "       [1],\n",
              "       [4],\n",
              "       [3],\n",
              "       [2],\n",
              "       [1]])"
            ]
          },
          "metadata": {},
          "execution_count": 49
        }
      ]
    },
    {
      "cell_type": "code",
      "source": [
        "# 머신러닝 모델은 입력특성을 2차원으로 받는다\n",
        "# 1차원 -> 2차원 변경\n",
        "X_train.values.reshape(-1,1)"
      ],
      "metadata": {
        "id": "0OfNoxfpr_Zi",
        "colab": {
          "base_uri": "https://localhost:8080/"
        },
        "outputId": "adec5dd7-febd-483c-ff35-f1dd5c884344"
      },
      "execution_count": 50,
      "outputs": [
        {
          "output_type": "execute_result",
          "data": {
            "text/plain": [
              "array([[1],\n",
              "       [1],\n",
              "       [1],\n",
              "       [2],\n",
              "       [1],\n",
              "       [4],\n",
              "       [1],\n",
              "       [2],\n",
              "       [2],\n",
              "       [1],\n",
              "       [1],\n",
              "       [3],\n",
              "       [2],\n",
              "       [1],\n",
              "       [2],\n",
              "       [2],\n",
              "       [2],\n",
              "       [2],\n",
              "       [2],\n",
              "       [3],\n",
              "       [2],\n",
              "       [1],\n",
              "       [2],\n",
              "       [3],\n",
              "       [4],\n",
              "       [3],\n",
              "       [2],\n",
              "       [1],\n",
              "       [1],\n",
              "       [2],\n",
              "       [2],\n",
              "       [1],\n",
              "       [2],\n",
              "       [2],\n",
              "       [2],\n",
              "       [2],\n",
              "       [1],\n",
              "       [2],\n",
              "       [2],\n",
              "       [2],\n",
              "       [2],\n",
              "       [2],\n",
              "       [1],\n",
              "       [2],\n",
              "       [2],\n",
              "       [2],\n",
              "       [1],\n",
              "       [1],\n",
              "       [4],\n",
              "       [3],\n",
              "       [3],\n",
              "       [2],\n",
              "       [1],\n",
              "       [1],\n",
              "       [2],\n",
              "       [3],\n",
              "       [2],\n",
              "       [2],\n",
              "       [2],\n",
              "       [2],\n",
              "       [1],\n",
              "       [3],\n",
              "       [2],\n",
              "       [2],\n",
              "       [2],\n",
              "       [2],\n",
              "       [1],\n",
              "       [2],\n",
              "       [1],\n",
              "       [3],\n",
              "       [1],\n",
              "       [2],\n",
              "       [1],\n",
              "       [3],\n",
              "       [1],\n",
              "       [4],\n",
              "       [3],\n",
              "       [2],\n",
              "       [2],\n",
              "       [2],\n",
              "       [2],\n",
              "       [1],\n",
              "       [2],\n",
              "       [1],\n",
              "       [2],\n",
              "       [2],\n",
              "       [1],\n",
              "       [2],\n",
              "       [2],\n",
              "       [2],\n",
              "       [2],\n",
              "       [2],\n",
              "       [4],\n",
              "       [2],\n",
              "       [1],\n",
              "       [1],\n",
              "       [1],\n",
              "       [2],\n",
              "       [1],\n",
              "       [1],\n",
              "       [2],\n",
              "       [2],\n",
              "       [4],\n",
              "       [2],\n",
              "       [1],\n",
              "       [2],\n",
              "       [2],\n",
              "       [4],\n",
              "       [2],\n",
              "       [2],\n",
              "       [1],\n",
              "       [2],\n",
              "       [1],\n",
              "       [4],\n",
              "       [1],\n",
              "       [3],\n",
              "       [3],\n",
              "       [2],\n",
              "       [2],\n",
              "       [2],\n",
              "       [2],\n",
              "       [4],\n",
              "       [1],\n",
              "       [2],\n",
              "       [2],\n",
              "       [1],\n",
              "       [4],\n",
              "       [2],\n",
              "       [1],\n",
              "       [1],\n",
              "       [2],\n",
              "       [1],\n",
              "       [2],\n",
              "       [4],\n",
              "       [2],\n",
              "       [1],\n",
              "       [3],\n",
              "       [2],\n",
              "       [1],\n",
              "       [2],\n",
              "       [2],\n",
              "       [2],\n",
              "       [3],\n",
              "       [3],\n",
              "       [3],\n",
              "       [1],\n",
              "       [2],\n",
              "       [1],\n",
              "       [2],\n",
              "       [2],\n",
              "       [2],\n",
              "       [2],\n",
              "       [3],\n",
              "       [2],\n",
              "       [3],\n",
              "       [1],\n",
              "       [3],\n",
              "       [2],\n",
              "       [2],\n",
              "       [1],\n",
              "       [1],\n",
              "       [2],\n",
              "       [2],\n",
              "       [1],\n",
              "       [2],\n",
              "       [1],\n",
              "       [2],\n",
              "       [1],\n",
              "       [1],\n",
              "       [2],\n",
              "       [1],\n",
              "       [3],\n",
              "       [2],\n",
              "       [2],\n",
              "       [4],\n",
              "       [1],\n",
              "       [4],\n",
              "       [1],\n",
              "       [2],\n",
              "       [2],\n",
              "       [3],\n",
              "       [2],\n",
              "       [2],\n",
              "       [1],\n",
              "       [2],\n",
              "       [2],\n",
              "       [1],\n",
              "       [1],\n",
              "       [2],\n",
              "       [2],\n",
              "       [2],\n",
              "       [2],\n",
              "       [2],\n",
              "       [3],\n",
              "       [1],\n",
              "       [1],\n",
              "       [2],\n",
              "       [2],\n",
              "       [2],\n",
              "       [4],\n",
              "       [1],\n",
              "       [3],\n",
              "       [2],\n",
              "       [3],\n",
              "       [3],\n",
              "       [2],\n",
              "       [1],\n",
              "       [2],\n",
              "       [2],\n",
              "       [1],\n",
              "       [4],\n",
              "       [2],\n",
              "       [2],\n",
              "       [2],\n",
              "       [2],\n",
              "       [2],\n",
              "       [2],\n",
              "       [3],\n",
              "       [1],\n",
              "       [3],\n",
              "       [2],\n",
              "       [3],\n",
              "       [1],\n",
              "       [2],\n",
              "       [2],\n",
              "       [3],\n",
              "       [3],\n",
              "       [1],\n",
              "       [3],\n",
              "       [2],\n",
              "       [2],\n",
              "       [3],\n",
              "       [2],\n",
              "       [2],\n",
              "       [3],\n",
              "       [2],\n",
              "       [1],\n",
              "       [1],\n",
              "       [1],\n",
              "       [2],\n",
              "       [2],\n",
              "       [1],\n",
              "       [2],\n",
              "       [4],\n",
              "       [3],\n",
              "       [3],\n",
              "       [2],\n",
              "       [1],\n",
              "       [1],\n",
              "       [2],\n",
              "       [2],\n",
              "       [3],\n",
              "       [1],\n",
              "       [3],\n",
              "       [1],\n",
              "       [1],\n",
              "       [3],\n",
              "       [1],\n",
              "       [2],\n",
              "       [2],\n",
              "       [2],\n",
              "       [1],\n",
              "       [3],\n",
              "       [2],\n",
              "       [3],\n",
              "       [2],\n",
              "       [1],\n",
              "       [2],\n",
              "       [3],\n",
              "       [4],\n",
              "       [1],\n",
              "       [2],\n",
              "       [1],\n",
              "       [2],\n",
              "       [1],\n",
              "       [3],\n",
              "       [1],\n",
              "       [2],\n",
              "       [2],\n",
              "       [1],\n",
              "       [2],\n",
              "       [3],\n",
              "       [2],\n",
              "       [3],\n",
              "       [2],\n",
              "       [1],\n",
              "       [4],\n",
              "       [3],\n",
              "       [2],\n",
              "       [4],\n",
              "       [2],\n",
              "       [1],\n",
              "       [3],\n",
              "       [1],\n",
              "       [3],\n",
              "       [3],\n",
              "       [2],\n",
              "       [2],\n",
              "       [3],\n",
              "       [2],\n",
              "       [2],\n",
              "       [3],\n",
              "       [2],\n",
              "       [1],\n",
              "       [4],\n",
              "       [2],\n",
              "       [2],\n",
              "       [2],\n",
              "       [2],\n",
              "       [2],\n",
              "       [2],\n",
              "       [1],\n",
              "       [4],\n",
              "       [3],\n",
              "       [2],\n",
              "       [1]])"
            ]
          },
          "metadata": {},
          "execution_count": 50
        }
      ]
    },
    {
      "cell_type": "markdown",
      "source": [
        "### 딥러닝 모델링(모델 구조 설계)"
      ],
      "metadata": {
        "id": "gwx_1TfYr_cf"
      }
    },
    {
      "cell_type": "code",
      "source": [
        "# 딥러닝 모델 도구 불러오기\n",
        "# 텐서플로우 안에 있는 keras\n",
        "from tensorflow.keras.models import Sequential # 모델의 뼈대\n",
        "# 신경망의 구성요소 (하나씩 조립)\n",
        "from tensorflow.keras.layers import InputLayer, Dense, Activation\n",
        "# InputLayer : 입력\n",
        "# Dense : 밀집도\n",
        "# Activation : 활성화함수 (인간을 모방하기 위해서 사용하는 함수)"
      ],
      "metadata": {
        "id": "QomUdFF7r_gH"
      },
      "execution_count": 51,
      "outputs": []
    },
    {
      "cell_type": "markdown",
      "source": [
        "#### 딥러닝모델 설계 순서\n",
        "1. 신경망 구조 설계\n",
        "2. 신경망 학습 및 평가 방법 설정\n",
        "3. 학습\n",
        "4. 예측 및 평가"
      ],
      "metadata": {
        "id": "JimCqJZqr_iw"
      }
    },
    {
      "cell_type": "code",
      "source": [
        "# 1. 신경망 구조 설계\n",
        "# 뼈대 생성\n",
        "model = Sequential()\n",
        "# 입력층\n",
        "model.add(InputLayer(input_shape = (1,))) # 입력특성의 개수를 작성(studytime 1개)\n",
        "# 중간층 (은닉층)\n",
        "model.add(Dense(units = 10)) # 뉴런 10개를 연결 -> 학습의 능력을 결정\n",
        "model.add(Activation('sigmoid')) # 활성화함수 : 인간을 모방을 위함 (위 선형함수와 짝꿍)\n",
        "# 출력층\n",
        "model.add(Dense(units = 1)) # 예측할 데이터의 형태 (성적데이터 1개)"
      ],
      "metadata": {
        "id": "qaQAuvQNtHPf"
      },
      "execution_count": 52,
      "outputs": []
    },
    {
      "cell_type": "markdown",
      "source": [
        "\n",
        "![image.png](data:image/png;base64,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)\n"
      ],
      "metadata": {
        "id": "BZp7VJSywu17"
      }
    },
    {
      "cell_type": "code",
      "source": [
        "# 2. 학습 및 평가 방법 설정\n",
        "# 딥러닝 모델은 학습법과 평가법을 지정해주어야한다\n",
        "model.compile(loss = 'mean_squared_error', # 모델의 잘못된 정도(오차) 측정 알고리즘\n",
        "              optimizer = 'SGD', # 모델의 w,b 값을 최적화하는 알고리즘\n",
        "              metrics = ['mse'])"
      ],
      "metadata": {
        "id": "tqLcq0bYtHbI"
      },
      "execution_count": 53,
      "outputs": []
    },
    {
      "cell_type": "markdown",
      "source": [
        "![KakaoTalk_20230918_143635467.png](data:image/png;base64,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)"
      ],
      "metadata": {
        "id": "nYcJ84_itHlB"
      }
    },
    {
      "cell_type": "code",
      "source": [
        "# 3. 모델학습 (교차검증 => 일반화를 위해)\n",
        "h1 = model.fit(X_train, y_train, validation_split=0.2, # 교차검증을 위한 데이터 남겨두기\n",
        "               epochs = 20) # 모델의 최적화 (업데이트 횟수, 반복횟수)\n",
        "# h1 변수에 담는 이유: 로그를 출력하여 패턴을 확인하기 위함"
      ],
      "metadata": {
        "colab": {
          "base_uri": "https://localhost:8080/"
        },
        "id": "yqE7NVyLtHtM",
        "outputId": "9a0a0ea2-84ec-4a14-c274-e4abfcdd5ddc"
      },
      "execution_count": 54,
      "outputs": [
        {
          "output_type": "stream",
          "name": "stdout",
          "text": [
            "Epoch 1/20\n",
            "8/8 [==============================] - 1s 30ms/step - loss: 86.7960 - mse: 86.7960 - val_loss: 40.7149 - val_mse: 40.7149\n",
            "Epoch 2/20\n",
            "8/8 [==============================] - 0s 7ms/step - loss: 27.8282 - mse: 27.8282 - val_loss: 23.8835 - val_mse: 23.8835\n",
            "Epoch 3/20\n",
            "8/8 [==============================] - 0s 7ms/step - loss: 20.2921 - mse: 20.2921 - val_loss: 22.6212 - val_mse: 22.6212\n",
            "Epoch 4/20\n",
            "8/8 [==============================] - 0s 9ms/step - loss: 19.5663 - mse: 19.5663 - val_loss: 22.5545 - val_mse: 22.5545\n",
            "Epoch 5/20\n",
            "8/8 [==============================] - 0s 9ms/step - loss: 19.4864 - mse: 19.4864 - val_loss: 22.5817 - val_mse: 22.5817\n",
            "Epoch 6/20\n",
            "8/8 [==============================] - 0s 7ms/step - loss: 19.5047 - mse: 19.5047 - val_loss: 22.5692 - val_mse: 22.5692\n",
            "Epoch 7/20\n",
            "8/8 [==============================] - 0s 9ms/step - loss: 19.4882 - mse: 19.4882 - val_loss: 22.5647 - val_mse: 22.5647\n",
            "Epoch 8/20\n",
            "8/8 [==============================] - 0s 11ms/step - loss: 19.5174 - mse: 19.5174 - val_loss: 22.5733 - val_mse: 22.5733\n",
            "Epoch 9/20\n",
            "8/8 [==============================] - 0s 7ms/step - loss: 19.4929 - mse: 19.4929 - val_loss: 22.6095 - val_mse: 22.6095\n",
            "Epoch 10/20\n",
            "8/8 [==============================] - 0s 9ms/step - loss: 19.5269 - mse: 19.5269 - val_loss: 22.6319 - val_mse: 22.6319\n",
            "Epoch 11/20\n",
            "8/8 [==============================] - 0s 10ms/step - loss: 19.5162 - mse: 19.5162 - val_loss: 22.5808 - val_mse: 22.5808\n",
            "Epoch 12/20\n",
            "8/8 [==============================] - 0s 9ms/step - loss: 19.4408 - mse: 19.4408 - val_loss: 22.5912 - val_mse: 22.5912\n",
            "Epoch 13/20\n",
            "8/8 [==============================] - 0s 9ms/step - loss: 19.4999 - mse: 19.4999 - val_loss: 22.6007 - val_mse: 22.6007\n",
            "Epoch 14/20\n",
            "8/8 [==============================] - 0s 9ms/step - loss: 19.4089 - mse: 19.4089 - val_loss: 22.6134 - val_mse: 22.6134\n",
            "Epoch 15/20\n",
            "8/8 [==============================] - 0s 10ms/step - loss: 19.5080 - mse: 19.5080 - val_loss: 22.5953 - val_mse: 22.5953\n",
            "Epoch 16/20\n",
            "8/8 [==============================] - 0s 7ms/step - loss: 19.4762 - mse: 19.4762 - val_loss: 22.6004 - val_mse: 22.6004\n",
            "Epoch 17/20\n",
            "8/8 [==============================] - 0s 7ms/step - loss: 19.4287 - mse: 19.4287 - val_loss: 22.6193 - val_mse: 22.6193\n",
            "Epoch 18/20\n",
            "8/8 [==============================] - 0s 9ms/step - loss: 19.4667 - mse: 19.4667 - val_loss: 22.6556 - val_mse: 22.6556\n",
            "Epoch 19/20\n",
            "8/8 [==============================] - 0s 9ms/step - loss: 19.4613 - mse: 19.4613 - val_loss: 22.6159 - val_mse: 22.6159\n",
            "Epoch 20/20\n",
            "8/8 [==============================] - 0s 8ms/step - loss: 19.4369 - mse: 19.4369 - val_loss: 22.6346 - val_mse: 22.6346\n"
          ]
        }
      ]
    },
    {
      "cell_type": "code",
      "source": [
        "# 4. 모델 평가\n",
        "model.evaluate(X_test, y_test)"
      ],
      "metadata": {
        "colab": {
          "base_uri": "https://localhost:8080/"
        },
        "id": "1lLViqQBtH0_",
        "outputId": "aec6f8eb-5654-4ff3-c039-710401679c33"
      },
      "execution_count": 55,
      "outputs": [
        {
          "output_type": "stream",
          "name": "stdout",
          "text": [
            "3/3 [==============================] - 0s 6ms/step - loss: 24.2642 - mse: 24.2642\n"
          ]
        },
        {
          "output_type": "execute_result",
          "data": {
            "text/plain": [
              "[24.264196395874023, 24.264196395874023]"
            ]
          },
          "metadata": {},
          "execution_count": 55
        }
      ]
    },
    {
      "cell_type": "code",
      "source": [
        "# 모델학습 로그출력\n",
        "h1.history"
      ],
      "metadata": {
        "colab": {
          "base_uri": "https://localhost:8080/"
        },
        "id": "qp1bbiuGtH9b",
        "outputId": "ee261ba4-88d1-4ff7-b17e-6569d4929263"
      },
      "execution_count": 56,
      "outputs": [
        {
          "output_type": "execute_result",
          "data": {
            "text/plain": [
              "{'loss': [86.79603576660156,\n",
              "  27.828218460083008,\n",
              "  20.292062759399414,\n",
              "  19.566333770751953,\n",
              "  19.486392974853516,\n",
              "  19.504653930664062,\n",
              "  19.488168716430664,\n",
              "  19.517362594604492,\n",
              "  19.492931365966797,\n",
              "  19.526906967163086,\n",
              "  19.516216278076172,\n",
              "  19.440793991088867,\n",
              "  19.499853134155273,\n",
              "  19.408931732177734,\n",
              "  19.508041381835938,\n",
              "  19.476213455200195,\n",
              "  19.42870330810547,\n",
              "  19.466712951660156,\n",
              "  19.461349487304688,\n",
              "  19.43687629699707],\n",
              " 'mse': [86.79603576660156,\n",
              "  27.828218460083008,\n",
              "  20.292062759399414,\n",
              "  19.566333770751953,\n",
              "  19.486392974853516,\n",
              "  19.504653930664062,\n",
              "  19.488168716430664,\n",
              "  19.517362594604492,\n",
              "  19.492931365966797,\n",
              "  19.526906967163086,\n",
              "  19.516216278076172,\n",
              "  19.440793991088867,\n",
              "  19.499853134155273,\n",
              "  19.408931732177734,\n",
              "  19.508041381835938,\n",
              "  19.476213455200195,\n",
              "  19.42870330810547,\n",
              "  19.466712951660156,\n",
              "  19.461349487304688,\n",
              "  19.43687629699707],\n",
              " 'val_loss': [40.714927673339844,\n",
              "  23.883506774902344,\n",
              "  22.621198654174805,\n",
              "  22.554508209228516,\n",
              "  22.581684112548828,\n",
              "  22.56920623779297,\n",
              "  22.564666748046875,\n",
              "  22.573259353637695,\n",
              "  22.609512329101562,\n",
              "  22.63186264038086,\n",
              "  22.580772399902344,\n",
              "  22.59122085571289,\n",
              "  22.600711822509766,\n",
              "  22.6134090423584,\n",
              "  22.5953426361084,\n",
              "  22.600406646728516,\n",
              "  22.619277954101562,\n",
              "  22.655624389648438,\n",
              "  22.61591911315918,\n",
              "  22.634597778320312],\n",
              " 'val_mse': [40.714927673339844,\n",
              "  23.883506774902344,\n",
              "  22.621198654174805,\n",
              "  22.554508209228516,\n",
              "  22.581684112548828,\n",
              "  22.56920623779297,\n",
              "  22.564666748046875,\n",
              "  22.573259353637695,\n",
              "  22.609512329101562,\n",
              "  22.63186264038086,\n",
              "  22.580772399902344,\n",
              "  22.59122085571289,\n",
              "  22.600711822509766,\n",
              "  22.6134090423584,\n",
              "  22.5953426361084,\n",
              "  22.600406646728516,\n",
              "  22.619277954101562,\n",
              "  22.655624389648438,\n",
              "  22.61591911315918,\n",
              "  22.634597778320312]}"
            ]
          },
          "metadata": {},
          "execution_count": 56
        }
      ]
    },
    {
      "cell_type": "code",
      "source": [
        "# 모델학습 시각화\n",
        "plt.figure(figsize = (10,5))\n",
        "plt.plot(h1.history['loss'], label = 'train_loss')\n",
        "plt.plot(h1.history['val_loss'], label = 'val_loss')\n",
        "plt.legend()# 범례\n",
        "plt.show()"
      ],
      "metadata": {
        "colab": {
          "base_uri": "https://localhost:8080/",
          "height": 450
        },
        "id": "Dp_c6FKmtIE_",
        "outputId": "36f69d3b-6f4a-4444-ab23-69d3839743e5"
      },
      "execution_count": 57,
      "outputs": [
        {
          "output_type": "display_data",
          "data": {
            "text/plain": [
              "<Figure size 1000x500 with 1 Axes>"
            ],
            "image/png": "[encoded data removed]"
          },
          "metadata": {}
        }
      ]
    },
    {
      "cell_type": "code",
      "source": [
        "data.info()"
      ],
      "metadata": {
        "colab": {
          "base_uri": "https://localhost:8080/"
        },
        "id": "p-o9VWoKtGUn",
        "outputId": "78d92e87-dda4-4a34-c9ab-932bd12e6520"
      },
      "execution_count": 58,
      "outputs": [
        {
          "output_type": "stream",
          "name": "stdout",
          "text": [
            "<class 'pandas.core.frame.DataFrame'>\n",
            "RangeIndex: 395 entries, 0 to 394\n",
            "Data columns (total 33 columns):\n",
            " #   Column      Non-Null Count  Dtype \n",
            "---  ------      --------------  ----- \n",
            " 0   school      395 non-null    object\n",
            " 1   sex         395 non-null    object\n",
            " 2   age         395 non-null    int64 \n",
            " 3   address     395 non-null    object\n",
            " 4   famsize     395 non-null    object\n",
            " 5   Pstatus     395 non-null    object\n",
            " 6   Medu        395 non-null    int64 \n",
            " 7   Fedu        395 non-null    int64 \n",
            " 8   Mjob        395 non-null    object\n",
            " 9   Fjob        395 non-null    object\n",
            " 10  reason      395 non-null    object\n",
            " 11  guardian    395 non-null    object\n",
            " 12  traveltime  395 non-null    int64 \n",
            " 13  studytime   395 non-null    int64 \n",
            " 14  failures    395 non-null    int64 \n",
            " 15  schoolsup   395 non-null    object\n",
            " 16  famsup      395 non-null    object\n",
            " 17  paid        395 non-null    object\n",
            " 18  activities  395 non-null    object\n",
            " 19  nursery     395 non-null    object\n",
            " 20  higher      395 non-null    object\n",
            " 21  internet    395 non-null    object\n",
            " 22  romantic    395 non-null    object\n",
            " 23  famrel      395 non-null    int64 \n",
            " 24  freetime    395 non-null    int64 \n",
            " 25  goout       395 non-null    int64 \n",
            " 26  Dalc        395 non-null    int64 \n",
            " 27  Walc        395 non-null    int64 \n",
            " 28  health      395 non-null    int64 \n",
            " 29  absences    395 non-null    int64 \n",
            " 30  G1          395 non-null    int64 \n",
            " 31  G2          395 non-null    int64 \n",
            " 32  G3          395 non-null    int64 \n",
            "dtypes: int64(16), object(17)\n",
            "memory usage: 102.0+ KB\n"
          ]
        }
      ]
    },
    {
      "cell_type": "markdown",
      "source": [
        "### 4개의 입력특성을 골라 학습시켜보자"
      ],
      "metadata": {
        "id": "WK-ib3yWqBbq"
      }
    },
    {
      "cell_type": "code",
      "source": [
        "X = data[['studytime','freetime','traveltime','health']]\n",
        "y = data['G3']"
      ],
      "metadata": {
        "id": "bxAYVKH17tLp"
      },
      "execution_count": 61,
      "outputs": []
    },
    {
      "cell_type": "code",
      "source": [
        "# train,test 분리\n",
        "X_train,X_test,y_train,y_test = train_test_split(X,y,test_size = 0.2, random_state = 918)"
      ],
      "metadata": {
        "id": "dJltdzhK7tXd"
      },
      "execution_count": 62,
      "outputs": []
    },
    {
      "cell_type": "code",
      "source": [
        "# 데이터크기\n",
        "X_train.shape, y_train.shape, X_test.shape, y_test.shape"
      ],
      "metadata": {
        "colab": {
          "base_uri": "https://localhost:8080/"
        },
        "id": "hWvrJ54oBxE0",
        "outputId": "0fba049f-46e7-4703-99af-0988b20db4f8"
      },
      "execution_count": 63,
      "outputs": [
        {
          "output_type": "execute_result",
          "data": {
            "text/plain": [
              "((316, 4), (316,), (79, 4), (79,))"
            ]
          },
          "metadata": {},
          "execution_count": 63
        }
      ]
    },
    {
      "cell_type": "code",
      "source": [
        "# 1. 신경망 구조설계\n",
        "# 뼈대\n",
        "model2 = Sequential()\n",
        "# 입력층 input_shape = 나의 특성수\n",
        "model2.add(InputLayer(input_shape = (4,))) # 입력특성 4개\n",
        "# 중간층\n",
        "model2.add(Dense(units = 10))\n",
        "model2.add(Activation ('sigmoid'))\n",
        "# 출력층\n",
        "model2.add(Dense (units = 1))"
      ],
      "metadata": {
        "id": "NgT8PoZN7tkf"
      },
      "execution_count": 64,
      "outputs": []
    },
    {
      "cell_type": "code",
      "source": [
        "# 2. 학습방법과 평가방법 설정\n",
        "model2.compile( loss = 'mean_squared_error',\n",
        "               optimizer = 'SGD',\n",
        "                metrics = ['mse'])"
      ],
      "metadata": {
        "id": "Z4-le0vQ7tuy"
      },
      "execution_count": 65,
      "outputs": []
    },
    {
      "cell_type": "code",
      "source": [
        "# 3. 학습\n",
        "h2 = model2.fit(X_train,y_train,validation_split=0.2, epochs = 20)"
      ],
      "metadata": {
        "colab": {
          "base_uri": "https://localhost:8080/"
        },
        "id": "Cf9z081g7t5r",
        "outputId": "f2c148ba-4634-4687-e33a-07a171b67ab2"
      },
      "execution_count": 66,
      "outputs": [
        {
          "output_type": "stream",
          "name": "stdout",
          "text": [
            "Epoch 1/20\n",
            "8/8 [==============================] - 1s 110ms/step - loss: 95.6937 - mse: 95.6937 - val_loss: 69.1270 - val_mse: 69.1270\n",
            "Epoch 2/20\n",
            "8/8 [==============================] - 0s 7ms/step - loss: 41.4455 - mse: 41.4455 - val_loss: 37.3670 - val_mse: 37.3670\n",
            "Epoch 3/20\n",
            "8/8 [==============================] - 0s 8ms/step - loss: 25.0525 - mse: 25.0525 - val_loss: 28.1831 - val_mse: 28.1831\n",
            "Epoch 4/20\n",
            "8/8 [==============================] - 0s 6ms/step - loss: 21.3092 - mse: 21.3092 - val_loss: 25.9815 - val_mse: 25.9815\n",
            "Epoch 5/20\n",
            "8/8 [==============================] - 0s 8ms/step - loss: 20.6991 - mse: 20.6991 - val_loss: 25.5708 - val_mse: 25.5708\n",
            "Epoch 6/20\n",
            "8/8 [==============================] - 0s 6ms/step - loss: 20.6692 - mse: 20.6692 - val_loss: 25.4197 - val_mse: 25.4197\n",
            "Epoch 7/20\n",
            "8/8 [==============================] - 0s 9ms/step - loss: 20.6373 - mse: 20.6373 - val_loss: 25.3010 - val_mse: 25.3010\n",
            "Epoch 8/20\n",
            "8/8 [==============================] - 0s 8ms/step - loss: 20.5721 - mse: 20.5721 - val_loss: 25.2493 - val_mse: 25.2493\n",
            "Epoch 9/20\n",
            "8/8 [==============================] - 0s 8ms/step - loss: 20.5667 - mse: 20.5667 - val_loss: 25.3060 - val_mse: 25.3060\n",
            "Epoch 10/20\n",
            "8/8 [==============================] - 0s 6ms/step - loss: 20.5889 - mse: 20.5889 - val_loss: 25.3347 - val_mse: 25.3347\n",
            "Epoch 11/20\n",
            "8/8 [==============================] - 0s 9ms/step - loss: 20.5719 - mse: 20.5719 - val_loss: 25.3266 - val_mse: 25.3266\n",
            "Epoch 12/20\n",
            "8/8 [==============================] - 0s 6ms/step - loss: 20.5653 - mse: 20.5653 - val_loss: 25.1515 - val_mse: 25.1515\n",
            "Epoch 13/20\n",
            "8/8 [==============================] - 0s 8ms/step - loss: 20.5263 - mse: 20.5263 - val_loss: 25.2132 - val_mse: 25.2132\n",
            "Epoch 14/20\n",
            "8/8 [==============================] - 0s 6ms/step - loss: 20.5826 - mse: 20.5826 - val_loss: 25.2255 - val_mse: 25.2255\n",
            "Epoch 15/20\n",
            "8/8 [==============================] - 0s 6ms/step - loss: 20.5193 - mse: 20.5193 - val_loss: 25.1227 - val_mse: 25.1227\n",
            "Epoch 16/20\n",
            "8/8 [==============================] - 0s 6ms/step - loss: 20.5384 - mse: 20.5384 - val_loss: 25.2084 - val_mse: 25.2084\n",
            "Epoch 17/20\n",
            "8/8 [==============================] - 0s 6ms/step - loss: 20.5134 - mse: 20.5134 - val_loss: 25.1814 - val_mse: 25.1814\n",
            "Epoch 18/20\n",
            "8/8 [==============================] - 0s 11ms/step - loss: 20.4987 - mse: 20.4987 - val_loss: 25.2112 - val_mse: 25.2112\n",
            "Epoch 19/20\n",
            "8/8 [==============================] - 0s 6ms/step - loss: 20.4906 - mse: 20.4906 - val_loss: 25.1823 - val_mse: 25.1823\n",
            "Epoch 20/20\n",
            "8/8 [==============================] - 0s 6ms/step - loss: 20.5416 - mse: 20.5416 - val_loss: 25.1839 - val_mse: 25.1839\n"
          ]
        }
      ]
    },
    {
      "cell_type": "code",
      "source": [
        "# 3. 학습\n",
        "h2 = model2.fit(X_train,y_train,validation_split=0.2, epochs = 20)"
      ],
      "metadata": {
        "colab": {
          "base_uri": "https://localhost:8080/"
        },
        "id": "gcu4w4b67uDr",
        "outputId": "e4a6d555-972b-45d3-f044-7942fffd49d0"
      },
      "execution_count": 67,
      "outputs": [
        {
          "output_type": "stream",
          "name": "stdout",
          "text": [
            "Epoch 1/20\n",
            "8/8 [==============================] - 0s 13ms/step - loss: 20.5488 - mse: 20.5488 - val_loss: 25.1645 - val_mse: 25.1645\n",
            "Epoch 2/20\n",
            "8/8 [==============================] - 0s 9ms/step - loss: 20.5096 - mse: 20.5096 - val_loss: 25.3042 - val_mse: 25.3042\n",
            "Epoch 3/20\n",
            "8/8 [==============================] - 0s 10ms/step - loss: 20.5309 - mse: 20.5309 - val_loss: 25.2229 - val_mse: 25.2229\n",
            "Epoch 4/20\n",
            "8/8 [==============================] - 0s 10ms/step - loss: 20.5312 - mse: 20.5312 - val_loss: 25.2552 - val_mse: 25.2552\n",
            "Epoch 5/20\n",
            "8/8 [==============================] - 0s 10ms/step - loss: 20.5092 - mse: 20.5092 - val_loss: 25.1880 - val_mse: 25.1880\n",
            "Epoch 6/20\n",
            "8/8 [==============================] - 0s 9ms/step - loss: 20.5411 - mse: 20.5411 - val_loss: 25.2306 - val_mse: 25.2306\n",
            "Epoch 7/20\n",
            "8/8 [==============================] - 0s 10ms/step - loss: 20.4903 - mse: 20.4903 - val_loss: 25.1640 - val_mse: 25.1640\n",
            "Epoch 8/20\n",
            "8/8 [==============================] - 0s 11ms/step - loss: 20.5481 - mse: 20.5481 - val_loss: 25.1203 - val_mse: 25.1203\n",
            "Epoch 9/20\n",
            "8/8 [==============================] - 0s 12ms/step - loss: 20.4933 - mse: 20.4933 - val_loss: 25.1018 - val_mse: 25.1018\n",
            "Epoch 10/20\n",
            "8/8 [==============================] - 0s 9ms/step - loss: 20.5334 - mse: 20.5334 - val_loss: 25.0880 - val_mse: 25.0880\n",
            "Epoch 11/20\n",
            "8/8 [==============================] - 0s 10ms/step - loss: 20.5356 - mse: 20.5356 - val_loss: 25.1293 - val_mse: 25.1293\n",
            "Epoch 12/20\n",
            "8/8 [==============================] - 0s 8ms/step - loss: 20.4986 - mse: 20.4986 - val_loss: 25.1325 - val_mse: 25.1325\n",
            "Epoch 13/20\n",
            "8/8 [==============================] - 0s 8ms/step - loss: 20.4985 - mse: 20.4985 - val_loss: 25.2005 - val_mse: 25.2005\n",
            "Epoch 14/20\n",
            "8/8 [==============================] - 0s 8ms/step - loss: 20.5177 - mse: 20.5177 - val_loss: 25.2161 - val_mse: 25.2161\n",
            "Epoch 15/20\n",
            "8/8 [==============================] - 0s 8ms/step - loss: 20.4629 - mse: 20.4629 - val_loss: 25.1339 - val_mse: 25.1339\n",
            "Epoch 16/20\n",
            "8/8 [==============================] - 0s 11ms/step - loss: 20.4577 - mse: 20.4577 - val_loss: 25.0838 - val_mse: 25.0838\n",
            "Epoch 17/20\n",
            "8/8 [==============================] - 0s 13ms/step - loss: 20.5026 - mse: 20.5026 - val_loss: 25.0514 - val_mse: 25.0514\n",
            "Epoch 18/20\n",
            "8/8 [==============================] - 0s 13ms/step - loss: 20.4405 - mse: 20.4405 - val_loss: 25.1594 - val_mse: 25.1594\n",
            "Epoch 19/20\n",
            "8/8 [==============================] - 0s 12ms/step - loss: 20.4475 - mse: 20.4475 - val_loss: 25.1065 - val_mse: 25.1065\n",
            "Epoch 20/20\n",
            "8/8 [==============================] - 0s 12ms/step - loss: 20.4580 - mse: 20.4580 - val_loss: 25.1499 - val_mse: 25.1499\n"
          ]
        }
      ]
    },
    {
      "cell_type": "code",
      "source": [
        "# 5. 시각화\n",
        "plt.figure(figsize = (10,5))\n",
        "plt.plot(h2.history['loss'], label = 'train_loss')\n",
        "plt.plot(h2.history['val_loss'], label = 'val_loss')\n",
        "plt.legend()# 범례\n",
        "plt.show()"
      ],
      "metadata": {
        "colab": {
          "base_uri": "https://localhost:8080/",
          "height": 445
        },
        "id": "NLQY1I8L7uN4",
        "outputId": "53c6372d-dfc2-4f9b-80a9-764b95470791"
      },
      "execution_count": 69,
      "outputs": [
        {
          "output_type": "display_data",
          "data": {
            "text/plain": [
              "<Figure size 1000x500 with 1 Axes>"
            ],
            "image/png": "[encoded data removed]"
          },
          "metadata": {}
        }
      ]
    },
    {
      "cell_type": "code",
      "source": [],
      "metadata": {
        "id": "VkHyu3BH7uXP"
      },
      "execution_count": null,
      "outputs": []
    },
    {
      "cell_type": "code",
      "source": [],
      "metadata": {
        "id": "ZfadISby7ugQ"
      },
      "execution_count": null,
      "outputs": []
    },
    {
      "cell_type": "code",
      "source": [],
      "metadata": {
        "id": "oMV3hREpr_lQ"
      },
      "execution_count": 57,
      "outputs": []
    },
    {
      "cell_type": "code",
      "source": [],
      "metadata": {
        "id": "np9p0cYLr_oc"
      },
      "execution_count": 57,
      "outputs": []
    }
  ]
}