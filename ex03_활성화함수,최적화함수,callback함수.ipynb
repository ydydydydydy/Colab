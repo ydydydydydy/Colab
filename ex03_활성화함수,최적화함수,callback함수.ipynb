{
  "nbformat": 4,
  "nbformat_minor": 0,
  "metadata": {
    "colab": {
      "provenance": [],
      "include_colab_link": true
    },
    "kernelspec": {
      "name": "python3",
      "display_name": "Python 3"
    },
    "language_info": {
      "name": "python"
    }
  },
  "cells": [
    {
      "cell_type": "markdown",
      "metadata": {
        "id": "view-in-github",
        "colab_type": "text"
      },
      "source": [
        "<a href=\"https://colab.research.google.com/github/ydydydydydy/Colab/blob/main/ex03_%ED%99%9C%EC%84%B1%ED%99%94%ED%95%A8%EC%88%98%2C%EC%B5%9C%EC%A0%81%ED%99%94%ED%95%A8%EC%88%98%2Ccallback%ED%95%A8%EC%88%98.ipynb\" target=\"_parent\"><img src=\"https://colab.research.google.com/assets/colab-badge.svg\" alt=\"Open In Colab\"/></a>"
      ]
    },
    {
      "cell_type": "markdown",
      "source": [
        "### 목표\n",
        "- 활성화함수와 경사하강법 최적의 조합을 확인해보자\n",
        "- 모델링에 도움이 되는 callback 함수(모델저장, 조기학습중단) 을 알아보자!"
      ],
      "metadata": {
        "id": "vpAEYHIPkZEZ"
      }
    },
    {
      "cell_type": "markdown",
      "source": [
        "##### 데이터 로딩"
      ],
      "metadata": {
        "id": "rcn8S6rhkm2l"
      }
    },
    {
      "cell_type": "code",
      "execution_count": null,
      "metadata": {
        "id": "tvkemTz1j6hP"
      },
      "outputs": [],
      "source": [
        "from tensorflow.keras.datasets import mnist # 손글씨 데이터"
      ]
    },
    {
      "cell_type": "code",
      "source": [
        "# 데이터 분리\n",
        "(X_train,y_train), (X_test,y_test) = mnist.load_data()"
      ],
      "metadata": {
        "colab": {
          "base_uri": "https://localhost:8080/"
        },
        "id": "C7_rD4kdko_U",
        "outputId": "b839c14c-0842-40bc-aab7-491f28c3a9d3"
      },
      "execution_count": null,
      "outputs": [
        {
          "output_type": "stream",
          "name": "stdout",
          "text": [
            "Downloading data from https://storage.googleapis.com/tensorflow/tf-keras-datasets/mnist.npz\n",
            "11490434/11490434 [==============================] - 0s 0us/step\n"
          ]
        }
      ]
    },
    {
      "cell_type": "code",
      "source": [
        "# 크기확인\n",
        "(X_train.shape,y_train.shape), (X_test.shape,y_test.shape)"
      ],
      "metadata": {
        "colab": {
          "base_uri": "https://localhost:8080/"
        },
        "id": "7sXqad8SkpBW",
        "outputId": "999371db-dc09-4b0f-a219-6b8407f5cc38"
      },
      "execution_count": null,
      "outputs": [
        {
          "output_type": "execute_result",
          "data": {
            "text/plain": [
              "(((60000, 28, 28), (60000,)), ((10000, 28, 28), (10000,)))"
            ]
          },
          "metadata": {},
          "execution_count": 3
        }
      ]
    },
    {
      "cell_type": "markdown",
      "source": [
        "### 활성화 함수와 경사하강법 조합에 따른 성능비교\n",
        "1. sigmoid + SGD 조합\n",
        "2. relu + SGD 조합\n",
        "3. relu + Adam 조합"
      ],
      "metadata": {
        "id": "OVzpCnaokpJW"
      }
    },
    {
      "cell_type": "code",
      "source": [
        "# 라이브러리 불러오기\n",
        "from tensorflow.keras.models import Sequential\n",
        "from tensorflow.keras.layers import InputLayer, Dense, Flatten\n",
        "from tensorflow.keras.optimizers import SGD, Adam # 경사하강법 클래스 사용"
      ],
      "metadata": {
        "id": "No0HmI_0kpJ6"
      },
      "execution_count": null,
      "outputs": []
    },
    {
      "cell_type": "code",
      "source": [
        "# 1. sigmoid + SGD 조합\n",
        "# 1)신경망설계\n",
        "# 뼈대\n",
        "model1 = Sequential()\n",
        "# 입력층\n",
        "# 사진데이터 (2차원 -> 1차원)\n",
        "model1.add(Flatten())\n",
        "# 중간층 (5층 (64,128,256,128,64))\n",
        "model1.add(Dense(units = 64, activation = 'sigmoid'))\n",
        "model1.add(Dense(units = 128, activation = 'sigmoid'))\n",
        "model1.add(Dense(units = 256, activation = 'sigmoid'))\n",
        "model1.add(Dense(units = 128, activation = 'sigmoid'))\n",
        "model1.add(Dense(units = 64, activation = 'sigmoid'))\n",
        "# 출력층\n",
        "model1.add(Dense(units = 10, activation = 'softmax'))"
      ],
      "metadata": {
        "id": "2kTAfMI2kpKz"
      },
      "execution_count": null,
      "outputs": []
    },
    {
      "cell_type": "code",
      "source": [
        "#2) 학습방법및 평가방법 설정\n",
        "model1.compile(loss = 'sparse_categorical_crossentropy',\n",
        "               optimizer = SGD(learning_rate = 0.01), #SGD 기본학습률: 0.01\n",
        "               metrics = ['accuracy'])"
      ],
      "metadata": {
        "id": "hcETnYd0kpLk"
      },
      "execution_count": null,
      "outputs": []
    },
    {
      "cell_type": "code",
      "source": [
        "# 3) 학습  # epochs = 20\n",
        "h1 = model1.fit(X_train,y_train,epochs = 20,\n",
        "                validation_split=0.2,\n",
        "                batch_size = 128)"
      ],
      "metadata": {
        "colab": {
          "base_uri": "https://localhost:8080/"
        },
        "id": "zZTCdMnhkpMU",
        "outputId": "ab20e0d3-abb8-454f-fe59-50cf972ff50e"
      },
      "execution_count": null,
      "outputs": [
        {
          "output_type": "stream",
          "name": "stdout",
          "text": [
            "Epoch 1/20\n",
            "375/375 [==============================] - 4s 7ms/step - loss: 2.3148 - accuracy: 0.1102 - val_loss: 2.3023 - val_accuracy: 0.1060\n",
            "Epoch 2/20\n",
            "375/375 [==============================] - 3s 9ms/step - loss: 2.3015 - accuracy: 0.1140 - val_loss: 2.3025 - val_accuracy: 0.1060\n",
            "Epoch 3/20\n",
            "375/375 [==============================] - 2s 6ms/step - loss: 2.3013 - accuracy: 0.1140 - val_loss: 2.3017 - val_accuracy: 0.1060\n",
            "Epoch 4/20\n",
            "375/375 [==============================] - 2s 6ms/step - loss: 2.3011 - accuracy: 0.1140 - val_loss: 2.3019 - val_accuracy: 0.1060\n",
            "Epoch 5/20\n",
            "375/375 [==============================] - 3s 7ms/step - loss: 2.3010 - accuracy: 0.1140 - val_loss: 2.3020 - val_accuracy: 0.1060\n",
            "Epoch 6/20\n",
            "375/375 [==============================] - 2s 7ms/step - loss: 2.3009 - accuracy: 0.1142 - val_loss: 2.3016 - val_accuracy: 0.1060\n",
            "Epoch 7/20\n",
            "375/375 [==============================] - 4s 9ms/step - loss: 2.3007 - accuracy: 0.1151 - val_loss: 2.3018 - val_accuracy: 0.1060\n",
            "Epoch 8/20\n",
            "375/375 [==============================] - 3s 7ms/step - loss: 2.3006 - accuracy: 0.1140 - val_loss: 2.3011 - val_accuracy: 0.1060\n",
            "Epoch 9/20\n",
            "375/375 [==============================] - 2s 6ms/step - loss: 2.3006 - accuracy: 0.1140 - val_loss: 2.3013 - val_accuracy: 0.1060\n",
            "Epoch 10/20\n",
            "375/375 [==============================] - 2s 7ms/step - loss: 2.3003 - accuracy: 0.1140 - val_loss: 2.3016 - val_accuracy: 0.1060\n",
            "Epoch 11/20\n",
            "375/375 [==============================] - 3s 7ms/step - loss: 2.3003 - accuracy: 0.1142 - val_loss: 2.3014 - val_accuracy: 0.1060\n",
            "Epoch 12/20\n",
            "375/375 [==============================] - 3s 8ms/step - loss: 2.3001 - accuracy: 0.1140 - val_loss: 2.3010 - val_accuracy: 0.1060\n",
            "Epoch 13/20\n",
            "375/375 [==============================] - 3s 7ms/step - loss: 2.3000 - accuracy: 0.1140 - val_loss: 2.3005 - val_accuracy: 0.1060\n",
            "Epoch 14/20\n",
            "375/375 [==============================] - 3s 7ms/step - loss: 2.2997 - accuracy: 0.1140 - val_loss: 2.3010 - val_accuracy: 0.1060\n",
            "Epoch 15/20\n",
            "375/375 [==============================] - 2s 6ms/step - loss: 2.2998 - accuracy: 0.1140 - val_loss: 2.3006 - val_accuracy: 0.1060\n",
            "Epoch 16/20\n",
            "375/375 [==============================] - 3s 8ms/step - loss: 2.2994 - accuracy: 0.1140 - val_loss: 2.3007 - val_accuracy: 0.1060\n",
            "Epoch 17/20\n",
            "375/375 [==============================] - 3s 8ms/step - loss: 2.2993 - accuracy: 0.1142 - val_loss: 2.3003 - val_accuracy: 0.1060\n",
            "Epoch 18/20\n",
            "375/375 [==============================] - 3s 7ms/step - loss: 2.2992 - accuracy: 0.1148 - val_loss: 2.2998 - val_accuracy: 0.1060\n",
            "Epoch 19/20\n",
            "375/375 [==============================] - 2s 6ms/step - loss: 2.2989 - accuracy: 0.1140 - val_loss: 2.3001 - val_accuracy: 0.1060\n",
            "Epoch 20/20\n",
            "375/375 [==============================] - 2s 7ms/step - loss: 2.2987 - accuracy: 0.1151 - val_loss: 2.2999 - val_accuracy: 0.1060\n"
          ]
        }
      ]
    },
    {
      "cell_type": "markdown",
      "source": [
        "######2.relu + SGD"
      ],
      "metadata": {
        "id": "9VSBqhiovTdn"
      }
    },
    {
      "cell_type": "code",
      "source": [
        "# 1)신경망설계\n",
        "# 뼈대\n",
        "model2 = Sequential()\n",
        "# 입력층\n",
        "# 사진데이터 (2차원 -> 1차원)\n",
        "model2.add(Flatten())\n",
        "# 중간층 (5층 (64,128,256,128,64))\n",
        "model2.add(Dense(units = 64, activation = 'relu'))\n",
        "model2.add(Dense(units = 128, activation = 'relu'))\n",
        "model2.add(Dense(units = 256, activation = 'relu'))\n",
        "model2.add(Dense(units = 128, activation = 'relu'))\n",
        "model2.add(Dense(units = 64, activation = 'relu'))\n",
        "# 출력층\n",
        "model2.add(Dense(units = 10, activation = 'softmax'))\n",
        "\n",
        "#2) 학습방법및 평가방법 설정\n",
        "model2.compile(loss = 'sparse_categorical_crossentropy',\n",
        "               optimizer = SGD(learning_rate = 0.01), #SGD 기본학습률: 0.01\n",
        "               metrics = ['accuracy'])\n",
        "\n",
        "h2 = model2.fit(X_train,y_train,epochs = 20,\n",
        "                validation_split=0.2,\n",
        "                batch_size = 128)"
      ],
      "metadata": {
        "colab": {
          "base_uri": "https://localhost:8080/"
        },
        "id": "g8G5f5l7kpM3",
        "outputId": "8e53f190-acb9-4f0e-e7ea-4202aef7544b"
      },
      "execution_count": null,
      "outputs": [
        {
          "output_type": "stream",
          "name": "stdout",
          "text": [
            "Epoch 1/20\n",
            "375/375 [==============================] - 3s 7ms/step - loss: nan - accuracy: 0.0988 - val_loss: nan - val_accuracy: 0.0995\n",
            "Epoch 2/20\n",
            "375/375 [==============================] - 3s 8ms/step - loss: nan - accuracy: 0.0985 - val_loss: nan - val_accuracy: 0.0995\n",
            "Epoch 3/20\n",
            "375/375 [==============================] - 3s 8ms/step - loss: nan - accuracy: 0.0985 - val_loss: nan - val_accuracy: 0.0995\n",
            "Epoch 4/20\n",
            "375/375 [==============================] - 2s 6ms/step - loss: nan - accuracy: 0.0985 - val_loss: nan - val_accuracy: 0.0995\n",
            "Epoch 5/20\n",
            "375/375 [==============================] - 3s 7ms/step - loss: nan - accuracy: 0.0985 - val_loss: nan - val_accuracy: 0.0995\n",
            "Epoch 6/20\n",
            "375/375 [==============================] - 2s 6ms/step - loss: nan - accuracy: 0.0985 - val_loss: nan - val_accuracy: 0.0995\n",
            "Epoch 7/20\n",
            "375/375 [==============================] - 3s 9ms/step - loss: nan - accuracy: 0.0985 - val_loss: nan - val_accuracy: 0.0995\n",
            "Epoch 8/20\n",
            "375/375 [==============================] - 3s 9ms/step - loss: nan - accuracy: 0.0985 - val_loss: nan - val_accuracy: 0.0995\n",
            "Epoch 9/20\n",
            "375/375 [==============================] - 3s 8ms/step - loss: nan - accuracy: 0.0985 - val_loss: nan - val_accuracy: 0.0995\n",
            "Epoch 10/20\n",
            "375/375 [==============================] - 3s 8ms/step - loss: nan - accuracy: 0.0985 - val_loss: nan - val_accuracy: 0.0995\n",
            "Epoch 11/20\n",
            "375/375 [==============================] - 4s 10ms/step - loss: nan - accuracy: 0.0985 - val_loss: nan - val_accuracy: 0.0995\n",
            "Epoch 12/20\n",
            "375/375 [==============================] - 3s 8ms/step - loss: nan - accuracy: 0.0985 - val_loss: nan - val_accuracy: 0.0995\n",
            "Epoch 13/20\n",
            "375/375 [==============================] - 2s 6ms/step - loss: nan - accuracy: 0.0985 - val_loss: nan - val_accuracy: 0.0995\n",
            "Epoch 14/20\n",
            "375/375 [==============================] - 2s 6ms/step - loss: nan - accuracy: 0.0985 - val_loss: nan - val_accuracy: 0.0995\n",
            "Epoch 15/20\n",
            "375/375 [==============================] - 2s 6ms/step - loss: nan - accuracy: 0.0985 - val_loss: nan - val_accuracy: 0.0995\n",
            "Epoch 16/20\n",
            "375/375 [==============================] - 4s 10ms/step - loss: nan - accuracy: 0.0985 - val_loss: nan - val_accuracy: 0.0995\n",
            "Epoch 17/20\n",
            "375/375 [==============================] - 2s 6ms/step - loss: nan - accuracy: 0.0985 - val_loss: nan - val_accuracy: 0.0995\n",
            "Epoch 18/20\n",
            "375/375 [==============================] - 2s 6ms/step - loss: nan - accuracy: 0.0985 - val_loss: nan - val_accuracy: 0.0995\n",
            "Epoch 19/20\n",
            "375/375 [==============================] - 2s 6ms/step - loss: nan - accuracy: 0.0985 - val_loss: nan - val_accuracy: 0.0995\n",
            "Epoch 20/20\n",
            "375/375 [==============================] - 2s 6ms/step - loss: nan - accuracy: 0.0985 - val_loss: nan - val_accuracy: 0.0995\n"
          ]
        }
      ]
    },
    {
      "cell_type": "markdown",
      "source": [
        "##### 3. relu + Adam"
      ],
      "metadata": {
        "id": "0Z6VLM_Tv7uy"
      }
    },
    {
      "cell_type": "code",
      "source": [
        "# 1)신경망설계\n",
        "# 뼈대\n",
        "model3 = Sequential()\n",
        "# 입력층\n",
        "# 사진데이터 (2차원 -> 1차원)\n",
        "model3.add(Flatten())\n",
        "# 중간층 (5층 (64,128,256,128,64))\n",
        "model3.add(Dense(units = 64, activation = 'relu'))\n",
        "model3.add(Dense(units = 128, activation = 'relu'))\n",
        "model3.add(Dense(units = 256, activation = 'relu'))\n",
        "model3.add(Dense(units = 128, activation = 'relu'))\n",
        "model3.add(Dense(units = 64, activation = 'relu'))\n",
        "# 출력층\n",
        "model3.add(Dense(units = 10, activation = 'softmax'))\n",
        "\n",
        "#2) 학습방법및 평가방법 설정\n",
        "model3.compile(loss = 'sparse_categorical_crossentropy',\n",
        "               optimizer = Adam(learning_rate = 0.001), #Adma 기본학습률: 0.001\n",
        "               metrics = ['accuracy'])\n",
        "\n",
        "h3 = model3.fit(X_train,y_train,epochs = 20,\n",
        "                validation_split=0.2,\n",
        "                batch_size = 128)"
      ],
      "metadata": {
        "colab": {
          "base_uri": "https://localhost:8080/"
        },
        "id": "KcPcIw52kpNk",
        "outputId": "d0018a1e-06a8-4d95-e23f-ad7743cf3e47"
      },
      "execution_count": null,
      "outputs": [
        {
          "output_type": "stream",
          "name": "stdout",
          "text": [
            "Epoch 1/20\n",
            "375/375 [==============================] - 5s 9ms/step - loss: 0.8104 - accuracy: 0.8223 - val_loss: 0.2757 - val_accuracy: 0.9178\n",
            "Epoch 2/20\n",
            "375/375 [==============================] - 3s 8ms/step - loss: 0.2300 - accuracy: 0.9330 - val_loss: 0.1947 - val_accuracy: 0.9420\n",
            "Epoch 3/20\n",
            "375/375 [==============================] - 4s 12ms/step - loss: 0.1594 - accuracy: 0.9519 - val_loss: 0.1999 - val_accuracy: 0.9440\n",
            "Epoch 4/20\n",
            "375/375 [==============================] - 3s 8ms/step - loss: 0.1308 - accuracy: 0.9604 - val_loss: 0.1630 - val_accuracy: 0.9534\n",
            "Epoch 5/20\n",
            "375/375 [==============================] - 3s 8ms/step - loss: 0.1063 - accuracy: 0.9671 - val_loss: 0.1716 - val_accuracy: 0.9511\n",
            "Epoch 6/20\n",
            "375/375 [==============================] - 3s 8ms/step - loss: 0.0955 - accuracy: 0.9710 - val_loss: 0.1437 - val_accuracy: 0.9613\n",
            "Epoch 7/20\n",
            "375/375 [==============================] - 4s 10ms/step - loss: 0.0814 - accuracy: 0.9758 - val_loss: 0.1609 - val_accuracy: 0.9569\n",
            "Epoch 8/20\n",
            "375/375 [==============================] - 3s 8ms/step - loss: 0.0733 - accuracy: 0.9778 - val_loss: 0.1525 - val_accuracy: 0.9590\n",
            "Epoch 9/20\n",
            "375/375 [==============================] - 3s 8ms/step - loss: 0.0696 - accuracy: 0.9783 - val_loss: 0.1494 - val_accuracy: 0.9603\n",
            "Epoch 10/20\n",
            "375/375 [==============================] - 3s 7ms/step - loss: 0.0685 - accuracy: 0.9790 - val_loss: 0.1562 - val_accuracy: 0.9614\n",
            "Epoch 11/20\n",
            "375/375 [==============================] - 4s 10ms/step - loss: 0.0539 - accuracy: 0.9830 - val_loss: 0.1549 - val_accuracy: 0.9633\n",
            "Epoch 12/20\n",
            "375/375 [==============================] - 3s 8ms/step - loss: 0.0547 - accuracy: 0.9833 - val_loss: 0.1464 - val_accuracy: 0.9640\n",
            "Epoch 13/20\n",
            "375/375 [==============================] - 3s 8ms/step - loss: 0.0554 - accuracy: 0.9836 - val_loss: 0.1518 - val_accuracy: 0.9628\n",
            "Epoch 14/20\n",
            "375/375 [==============================] - 3s 8ms/step - loss: 0.0540 - accuracy: 0.9832 - val_loss: 0.1444 - val_accuracy: 0.9679\n",
            "Epoch 15/20\n",
            "375/375 [==============================] - 4s 11ms/step - loss: 0.0455 - accuracy: 0.9864 - val_loss: 0.1596 - val_accuracy: 0.9625\n",
            "Epoch 16/20\n",
            "375/375 [==============================] - 3s 8ms/step - loss: 0.0423 - accuracy: 0.9868 - val_loss: 0.1634 - val_accuracy: 0.9598\n",
            "Epoch 17/20\n",
            "375/375 [==============================] - 3s 8ms/step - loss: 0.0437 - accuracy: 0.9865 - val_loss: 0.1394 - val_accuracy: 0.9702\n",
            "Epoch 18/20\n",
            "375/375 [==============================] - 3s 7ms/step - loss: 0.0432 - accuracy: 0.9869 - val_loss: 0.1505 - val_accuracy: 0.9661\n",
            "Epoch 19/20\n",
            "375/375 [==============================] - 4s 11ms/step - loss: 0.0362 - accuracy: 0.9885 - val_loss: 0.1748 - val_accuracy: 0.9668\n",
            "Epoch 20/20\n",
            "375/375 [==============================] - 3s 9ms/step - loss: 0.0441 - accuracy: 0.9874 - val_loss: 0.1450 - val_accuracy: 0.9704\n"
          ]
        }
      ]
    },
    {
      "cell_type": "code",
      "source": [
        "import matplotlib.pyplot as plt\n",
        "plt.figure(figsize=(15,5))\n",
        "# sigmoid + SGD 조합\n",
        "plt.plot(h1.history['accuracy'], label=\"sigmoid+SGD train acc\")\n",
        "plt.plot(h1.history['val_accuracy'], label=\"sigmoid+SGD validation acc\")\n",
        "# relu + SGD 조합\n",
        "plt.plot(h2.history['accuracy'], label=\"relu+SGD train acc\")\n",
        "plt.plot(h2.history['val_accuracy'], label=\"relu+SGD validation acc\")\n",
        "# relu + Adam 조합\n",
        "plt.plot(h3.history['accuracy'], label=\"relu+Adam train acc\")\n",
        "plt.plot(h3.history['val_accuracy'], label=\"relu+Adam validation acc\")\n",
        "\n",
        "plt.legend()\n",
        "plt.show()"
      ],
      "metadata": {
        "colab": {
          "base_uri": "https://localhost:8080/",
          "height": 245
        },
        "id": "uvun-YFukpOa",
        "outputId": "6ac1de69-2d07-4555-9dfc-ebc39da8d55e"
      },
      "execution_count": null,
      "outputs": [
        {
          "output_type": "display_data",
          "data": {
            "text/plain": [
              "<Figure size 1500x500 with 1 Axes>"
            ],
            "image/png": "[encoded data removed]"
          },
          "metadata": {}
        }
      ]
    },
    {
      "cell_type": "markdown",
      "source": [
        "### callback 함수\n",
        "- 모델저장 및 조기학습중단\n",
        "- 모델저장 (ModelCheckPoint)\n",
        "  - 딥러닝모델 학습시 지정된 epoch 를 다 끝내면 과대적합이 일어나는 경우가 있다 -> 중간에 일반화된 모델을 저장할 수 있는 기능!!\n",
        "- 조기학습 중단(EarlyStopping)\n",
        "  - epoch 를 크게 설정할 경우 일정횟수 이상으로는 모델의 성능이 개선되지 않는 경우가 있다.  -> 시간낭비 -> 모델의 성능이 개선되지 않는 경우에는 조기중단이 필요"
      ],
      "metadata": {
        "id": "GOO380Oixk10"
      }
    },
    {
      "cell_type": "code",
      "source": [
        "from tensorflow.keras.callbacks import ModelCheckpoint, EarlyStopping\n",
        "# 모델 중간 저장\n",
        "# 모델 중간 멈춤"
      ],
      "metadata": {
        "id": "pcGXEzIVkpO8"
      },
      "execution_count": null,
      "outputs": []
    },
    {
      "cell_type": "code",
      "source": [
        "# 모델 저장\n",
        "# 저장될 경로 작성\n",
        "model_path = '/content/drive/MyDrive/Colab Notebooks/DeepLearning/data/digit_model/dm_{epoch:02d}_{val_accuracy:0.2f}.hdf5'\n",
        "mckp = ModelCheckpoint(filepath = model_path, # 저장경로\n",
        "                verbose = 1, # 로그 출력 -> 1: 로그출력 0\n",
        "                save_best_only = True, # 모델성능이 최고점을 갱신할때마다 저장\n",
        "                monitor = 'val_accuracy') #  최고점의 기준치\n",
        "# 콜백객체 생성완료~\n",
        "# 사용한것은 아님!"
      ],
      "metadata": {
        "id": "sR4VjiktkpPh"
      },
      "execution_count": null,
      "outputs": []
    },
    {
      "cell_type": "code",
      "source": [
        "# 조기학습 중단\n",
        "early = EarlyStopping(monitor = 'val_accuracy', #기준치\n",
        "                      verbose = 1, # 로그출력\n",
        "                      patience = 10) # 모델성능개선을 기다리는 최대 횟수"
      ],
      "metadata": {
        "id": "eveV2BeLkpQC"
      },
      "execution_count": null,
      "outputs": []
    },
    {
      "cell_type": "code",
      "source": [
        "# 3 번째 조합으로 모델링\n",
        "# 1)신경망설계\n",
        "# 뼈대\n",
        "model3 = Sequential()\n",
        "# 입력층\n",
        "# 사진데이터 (2차원 -> 1차원)\n",
        "model3.add(Flatten())\n",
        "# 중간층 (5층 (64,128,256,128,64))\n",
        "model3.add(Dense(units = 64, activation = 'relu'))\n",
        "model3.add(Dense(units = 128, activation = 'relu'))\n",
        "model3.add(Dense(units = 256, activation = 'relu'))\n",
        "model3.add(Dense(units = 128, activation = 'relu'))\n",
        "model3.add(Dense(units = 64, activation = 'relu'))\n",
        "# 출력층\n",
        "model3.add(Dense(units = 10, activation = 'softmax'))\n",
        "\n",
        "#2) 학습방법및 평가방법 설정\n",
        "model3.compile(loss = 'sparse_categorical_crossentropy',\n",
        "               optimizer = Adam(learning_rate = 0.001), #Adma 기본학습률: 0.001\n",
        "               metrics = ['accuracy'])\n",
        "\n",
        "h3 = model3.fit(X_train,y_train,epochs = 1000,\n",
        "                validation_split=0.2,\n",
        "                batch_size = 128,\n",
        "                callbacks = [mckp, early])"
      ],
      "metadata": {
        "colab": {
          "base_uri": "https://localhost:8080/"
        },
        "id": "FndiV8ZukpQ8",
        "outputId": "3aac9be8-5a4b-4b37-eca6-633ef3d3bb2f"
      },
      "execution_count": null,
      "outputs": [
        {
          "output_type": "stream",
          "name": "stdout",
          "text": [
            "Epoch 1/1000\n",
            "372/375 [============================>.] - ETA: 0s - loss: 0.9829 - accuracy: 0.8056\n",
            "Epoch 1: val_accuracy improved from -inf to 0.91225, saving model to /content/drive/MyDrive/Colab Notebooks/23.09.15 DeepLearning (Spring)/data/digit_model/dm_01_0.91.hdf5\n",
            "375/375 [==============================] - 4s 8ms/step - loss: 0.9778 - accuracy: 0.8063 - val_loss: 0.2925 - val_accuracy: 0.9122\n",
            "Epoch 2/1000\n",
            " 17/375 [>.............................] - ETA: 2s - loss: 0.2744 - accuracy: 0.9237"
          ]
        },
        {
          "output_type": "stream",
          "name": "stderr",
          "text": [
            "/usr/local/lib/python3.10/dist-packages/keras/src/engine/training.py:3000: UserWarning: You are saving your model as an HDF5 file via `model.save()`. This file format is considered legacy. We recommend using instead the native Keras format, e.g. `model.save('my_model.keras')`.\n",
            "  saving_api.save_model(\n"
          ]
        },
        {
          "output_type": "stream",
          "name": "stdout",
          "text": [
            "374/375 [============================>.] - ETA: 0s - loss: 0.2453 - accuracy: 0.9274\n",
            "Epoch 2: val_accuracy improved from 0.91225 to 0.93533, saving model to /content/drive/MyDrive/Colab Notebooks/23.09.15 DeepLearning (Spring)/data/digit_model/dm_02_0.94.hdf5\n",
            "375/375 [==============================] - 3s 9ms/step - loss: 0.2449 - accuracy: 0.9275 - val_loss: 0.2185 - val_accuracy: 0.9353\n",
            "Epoch 3/1000\n",
            "369/375 [============================>.] - ETA: 0s - loss: 0.1749 - accuracy: 0.9477\n",
            "Epoch 3: val_accuracy improved from 0.93533 to 0.94400, saving model to /content/drive/MyDrive/Colab Notebooks/23.09.15 DeepLearning (Spring)/data/digit_model/dm_03_0.94.hdf5\n",
            "375/375 [==============================] - 4s 10ms/step - loss: 0.1744 - accuracy: 0.9479 - val_loss: 0.1887 - val_accuracy: 0.9440\n",
            "Epoch 4/1000\n",
            "369/375 [============================>.] - ETA: 0s - loss: 0.1388 - accuracy: 0.9583\n",
            "Epoch 4: val_accuracy improved from 0.94400 to 0.95067, saving model to /content/drive/MyDrive/Colab Notebooks/23.09.15 DeepLearning (Spring)/data/digit_model/dm_04_0.95.hdf5\n",
            "375/375 [==============================] - 3s 8ms/step - loss: 0.1385 - accuracy: 0.9584 - val_loss: 0.1642 - val_accuracy: 0.9507\n",
            "Epoch 5/1000\n",
            "370/375 [============================>.] - ETA: 0s - loss: 0.1154 - accuracy: 0.9655\n",
            "Epoch 5: val_accuracy did not improve from 0.95067\n",
            "375/375 [==============================] - 3s 7ms/step - loss: 0.1160 - accuracy: 0.9654 - val_loss: 0.1757 - val_accuracy: 0.9470\n",
            "Epoch 6/1000\n",
            "375/375 [==============================] - ETA: 0s - loss: 0.0982 - accuracy: 0.9700\n",
            "Epoch 6: val_accuracy improved from 0.95067 to 0.95450, saving model to /content/drive/MyDrive/Colab Notebooks/23.09.15 DeepLearning (Spring)/data/digit_model/dm_06_0.95.hdf5\n",
            "375/375 [==============================] - 3s 8ms/step - loss: 0.0982 - accuracy: 0.9700 - val_loss: 0.1676 - val_accuracy: 0.9545\n",
            "Epoch 7/1000\n",
            "371/375 [============================>.] - ETA: 0s - loss: 0.0903 - accuracy: 0.9710\n",
            "Epoch 7: val_accuracy improved from 0.95450 to 0.95692, saving model to /content/drive/MyDrive/Colab Notebooks/23.09.15 DeepLearning (Spring)/data/digit_model/dm_07_0.96.hdf5\n",
            "375/375 [==============================] - 4s 11ms/step - loss: 0.0903 - accuracy: 0.9710 - val_loss: 0.1532 - val_accuracy: 0.9569\n",
            "Epoch 8/1000\n",
            "370/375 [============================>.] - ETA: 0s - loss: 0.0806 - accuracy: 0.9739\n",
            "Epoch 8: val_accuracy improved from 0.95692 to 0.95733, saving model to /content/drive/MyDrive/Colab Notebooks/23.09.15 DeepLearning (Spring)/data/digit_model/dm_08_0.96.hdf5\n",
            "375/375 [==============================] - 3s 9ms/step - loss: 0.0806 - accuracy: 0.9740 - val_loss: 0.1760 - val_accuracy: 0.9573\n",
            "Epoch 9/1000\n",
            "369/375 [============================>.] - ETA: 0s - loss: 0.0743 - accuracy: 0.9768\n",
            "Epoch 9: val_accuracy improved from 0.95733 to 0.95858, saving model to /content/drive/MyDrive/Colab Notebooks/23.09.15 DeepLearning (Spring)/data/digit_model/dm_09_0.96.hdf5\n",
            "375/375 [==============================] - 3s 8ms/step - loss: 0.0744 - accuracy: 0.9768 - val_loss: 0.1526 - val_accuracy: 0.9586\n",
            "Epoch 10/1000\n",
            "372/375 [============================>.] - ETA: 0s - loss: 0.0699 - accuracy: 0.9780\n",
            "Epoch 10: val_accuracy improved from 0.95858 to 0.96233, saving model to /content/drive/MyDrive/Colab Notebooks/23.09.15 DeepLearning (Spring)/data/digit_model/dm_10_0.96.hdf5\n",
            "375/375 [==============================] - 3s 7ms/step - loss: 0.0699 - accuracy: 0.9780 - val_loss: 0.1436 - val_accuracy: 0.9623\n",
            "Epoch 11/1000\n",
            "371/375 [============================>.] - ETA: 0s - loss: 0.0588 - accuracy: 0.9817\n",
            "Epoch 11: val_accuracy improved from 0.96233 to 0.96350, saving model to /content/drive/MyDrive/Colab Notebooks/23.09.15 DeepLearning (Spring)/data/digit_model/dm_11_0.96.hdf5\n",
            "375/375 [==============================] - 3s 8ms/step - loss: 0.0586 - accuracy: 0.9818 - val_loss: 0.1441 - val_accuracy: 0.9635\n",
            "Epoch 12/1000\n",
            "375/375 [==============================] - ETA: 0s - loss: 0.0602 - accuracy: 0.9821\n",
            "Epoch 12: val_accuracy did not improve from 0.96350\n",
            "375/375 [==============================] - 4s 11ms/step - loss: 0.0602 - accuracy: 0.9821 - val_loss: 0.1406 - val_accuracy: 0.9629\n",
            "Epoch 13/1000\n",
            "369/375 [============================>.] - ETA: 0s - loss: 0.0558 - accuracy: 0.9824\n",
            "Epoch 13: val_accuracy improved from 0.96350 to 0.96650, saving model to /content/drive/MyDrive/Colab Notebooks/23.09.15 DeepLearning (Spring)/data/digit_model/dm_13_0.97.hdf5\n",
            "375/375 [==============================] - 3s 8ms/step - loss: 0.0560 - accuracy: 0.9825 - val_loss: 0.1339 - val_accuracy: 0.9665\n",
            "Epoch 14/1000\n",
            "368/375 [============================>.] - ETA: 0s - loss: 0.0504 - accuracy: 0.9843\n",
            "Epoch 14: val_accuracy did not improve from 0.96650\n",
            "375/375 [==============================] - 3s 8ms/step - loss: 0.0503 - accuracy: 0.9843 - val_loss: 0.1412 - val_accuracy: 0.9656\n",
            "Epoch 15/1000\n",
            "369/375 [============================>.] - ETA: 0s - loss: 0.0510 - accuracy: 0.9841\n",
            "Epoch 15: val_accuracy improved from 0.96650 to 0.96725, saving model to /content/drive/MyDrive/Colab Notebooks/23.09.15 DeepLearning (Spring)/data/digit_model/dm_15_0.97.hdf5\n",
            "375/375 [==============================] - 3s 7ms/step - loss: 0.0510 - accuracy: 0.9840 - val_loss: 0.1532 - val_accuracy: 0.9672\n",
            "Epoch 16/1000\n",
            "372/375 [============================>.] - ETA: 0s - loss: 0.0490 - accuracy: 0.9845\n",
            "Epoch 16: val_accuracy did not improve from 0.96725\n",
            "375/375 [==============================] - 4s 10ms/step - loss: 0.0495 - accuracy: 0.9843 - val_loss: 0.1590 - val_accuracy: 0.9643\n",
            "Epoch 17/1000\n",
            "372/375 [============================>.] - ETA: 0s - loss: 0.0474 - accuracy: 0.9856\n",
            "Epoch 17: val_accuracy did not improve from 0.96725\n",
            "375/375 [==============================] - 3s 9ms/step - loss: 0.0474 - accuracy: 0.9856 - val_loss: 0.1572 - val_accuracy: 0.9650\n",
            "Epoch 18/1000\n",
            "368/375 [============================>.] - ETA: 0s - loss: 0.0421 - accuracy: 0.9873\n",
            "Epoch 18: val_accuracy did not improve from 0.96725\n",
            "375/375 [==============================] - 3s 7ms/step - loss: 0.0419 - accuracy: 0.9874 - val_loss: 0.1635 - val_accuracy: 0.9635\n",
            "Epoch 19/1000\n",
            "370/375 [============================>.] - ETA: 0s - loss: 0.0421 - accuracy: 0.9869\n",
            "Epoch 19: val_accuracy did not improve from 0.96725\n",
            "375/375 [==============================] - 3s 8ms/step - loss: 0.0427 - accuracy: 0.9868 - val_loss: 0.1455 - val_accuracy: 0.9650\n",
            "Epoch 20/1000\n",
            "374/375 [============================>.] - ETA: 0s - loss: 0.0417 - accuracy: 0.9877\n",
            "Epoch 20: val_accuracy did not improve from 0.96725\n",
            "375/375 [==============================] - 3s 7ms/step - loss: 0.0416 - accuracy: 0.9877 - val_loss: 0.1489 - val_accuracy: 0.9651\n",
            "Epoch 21/1000\n",
            "373/375 [============================>.] - ETA: 0s - loss: 0.0363 - accuracy: 0.9890\n",
            "Epoch 21: val_accuracy did not improve from 0.96725\n",
            "375/375 [==============================] - 5s 13ms/step - loss: 0.0362 - accuracy: 0.9890 - val_loss: 0.1623 - val_accuracy: 0.9641\n",
            "Epoch 22/1000\n",
            "374/375 [============================>.] - ETA: 0s - loss: 0.0381 - accuracy: 0.9882\n",
            "Epoch 22: val_accuracy did not improve from 0.96725\n",
            "375/375 [==============================] - 3s 7ms/step - loss: 0.0382 - accuracy: 0.9881 - val_loss: 0.1637 - val_accuracy: 0.9644\n",
            "Epoch 23/1000\n",
            "370/375 [============================>.] - ETA: 0s - loss: 0.0352 - accuracy: 0.9894\n",
            "Epoch 23: val_accuracy improved from 0.96725 to 0.96983, saving model to /content/drive/MyDrive/Colab Notebooks/23.09.15 DeepLearning (Spring)/data/digit_model/dm_23_0.97.hdf5\n",
            "375/375 [==============================] - 3s 8ms/step - loss: 0.0349 - accuracy: 0.9895 - val_loss: 0.1360 - val_accuracy: 0.9698\n",
            "Epoch 24/1000\n",
            "375/375 [==============================] - ETA: 0s - loss: 0.0390 - accuracy: 0.9885\n",
            "Epoch 24: val_accuracy did not improve from 0.96983\n",
            "375/375 [==============================] - 3s 7ms/step - loss: 0.0390 - accuracy: 0.9885 - val_loss: 0.1579 - val_accuracy: 0.9678\n",
            "Epoch 25/1000\n",
            "373/375 [============================>.] - ETA: 0s - loss: 0.0272 - accuracy: 0.9919\n",
            "Epoch 25: val_accuracy did not improve from 0.96983\n",
            "375/375 [==============================] - 4s 10ms/step - loss: 0.0274 - accuracy: 0.9918 - val_loss: 0.1421 - val_accuracy: 0.9695\n",
            "Epoch 26/1000\n",
            "372/375 [============================>.] - ETA: 0s - loss: 0.0280 - accuracy: 0.9918\n",
            "Epoch 26: val_accuracy did not improve from 0.96983\n",
            "375/375 [==============================] - 4s 10ms/step - loss: 0.0281 - accuracy: 0.9918 - val_loss: 0.1564 - val_accuracy: 0.9672\n",
            "Epoch 27/1000\n",
            "372/375 [============================>.] - ETA: 0s - loss: 0.0329 - accuracy: 0.9908\n",
            "Epoch 27: val_accuracy did not improve from 0.96983\n",
            "375/375 [==============================] - 3s 8ms/step - loss: 0.0330 - accuracy: 0.9908 - val_loss: 0.1425 - val_accuracy: 0.9692\n",
            "Epoch 28/1000\n",
            "374/375 [============================>.] - ETA: 0s - loss: 0.0253 - accuracy: 0.9932\n",
            "Epoch 28: val_accuracy did not improve from 0.96983\n",
            "375/375 [==============================] - 3s 7ms/step - loss: 0.0252 - accuracy: 0.9932 - val_loss: 0.1649 - val_accuracy: 0.9688\n",
            "Epoch 29/1000\n",
            "373/375 [============================>.] - ETA: 0s - loss: 0.0248 - accuracy: 0.9927\n",
            "Epoch 29: val_accuracy did not improve from 0.96983\n",
            "375/375 [==============================] - 3s 8ms/step - loss: 0.0247 - accuracy: 0.9927 - val_loss: 0.1848 - val_accuracy: 0.9663\n",
            "Epoch 30/1000\n",
            "371/375 [============================>.] - ETA: 0s - loss: 0.0264 - accuracy: 0.9924\n",
            "Epoch 30: val_accuracy did not improve from 0.96983\n",
            "375/375 [==============================] - 4s 11ms/step - loss: 0.0264 - accuracy: 0.9924 - val_loss: 0.1660 - val_accuracy: 0.9678\n",
            "Epoch 31/1000\n",
            "373/375 [============================>.] - ETA: 0s - loss: 0.0262 - accuracy: 0.9916\n",
            "Epoch 31: val_accuracy did not improve from 0.96983\n",
            "375/375 [==============================] - 3s 7ms/step - loss: 0.0262 - accuracy: 0.9916 - val_loss: 0.1531 - val_accuracy: 0.9682\n",
            "Epoch 32/1000\n",
            "372/375 [============================>.] - ETA: 0s - loss: 0.0258 - accuracy: 0.9920\n",
            "Epoch 32: val_accuracy did not improve from 0.96983\n",
            "375/375 [==============================] - 3s 7ms/step - loss: 0.0258 - accuracy: 0.9920 - val_loss: 0.1847 - val_accuracy: 0.9672\n",
            "Epoch 33/1000\n",
            "372/375 [============================>.] - ETA: 0s - loss: 0.0244 - accuracy: 0.9931\n",
            "Epoch 33: val_accuracy did not improve from 0.96983\n",
            "375/375 [==============================] - 3s 8ms/step - loss: 0.0245 - accuracy: 0.9931 - val_loss: 0.1711 - val_accuracy: 0.9690\n",
            "Epoch 33: early stopping\n"
          ]
        }
      ]
    },
    {
      "cell_type": "code",
      "source": [],
      "metadata": {
        "id": "TbkShf6okpRb"
      },
      "execution_count": null,
      "outputs": []
    },
    {
      "cell_type": "code",
      "source": [],
      "metadata": {
        "id": "cIH9KyYkkpSO"
      },
      "execution_count": null,
      "outputs": []
    },
    {
      "cell_type": "code",
      "source": [],
      "metadata": {
        "id": "dmm2uAUikpSy"
      },
      "execution_count": null,
      "outputs": []
    },
    {
      "cell_type": "code",
      "source": [],
      "metadata": {
        "id": "ZcdtEaiMkpTS"
      },
      "execution_count": null,
      "outputs": []
    },
    {
      "cell_type": "code",
      "source": [],
      "metadata": {
        "id": "aPqRPnlZkpT7"
      },
      "execution_count": null,
      "outputs": []
    },
    {
      "cell_type": "code",
      "source": [],
      "metadata": {
        "id": "iMriDxlhkpUb"
      },
      "execution_count": null,
      "outputs": []
    },
    {
      "cell_type": "code",
      "source": [],
      "metadata": {
        "id": "OeN1tFD1kpU_"
      },
      "execution_count": null,
      "outputs": []
    },
    {
      "cell_type": "code",
      "source": [],
      "metadata": {
        "id": "Ba-exiplkpVk"
      },
      "execution_count": null,
      "outputs": []
    },
    {
      "cell_type": "code",
      "source": [],
      "metadata": {
        "id": "B2irwsP8kpWH"
      },
      "execution_count": null,
      "outputs": []
    },
    {
      "cell_type": "code",
      "source": [],
      "metadata": {
        "id": "C71iq2jfkpWv"
      },
      "execution_count": null,
      "outputs": []
    },
    {
      "cell_type": "code",
      "source": [],
      "metadata": {
        "id": "NEMMfoNlkpXR"
      },
      "execution_count": null,
      "outputs": []
    },
    {
      "cell_type": "code",
      "source": [],
      "metadata": {
        "id": "epJ0NbWPkpYN"
      },
      "execution_count": null,
      "outputs": []
    },
    {
      "cell_type": "code",
      "source": [],
      "metadata": {
        "id": "S1TuVrmIkpZE"
      },
      "execution_count": null,
      "outputs": []
    },
    {
      "cell_type": "code",
      "source": [],
      "metadata": {
        "id": "Wrd-33f3kpZn"
      },
      "execution_count": null,
      "outputs": []
    },
    {
      "cell_type": "code",
      "source": [],
      "metadata": {
        "id": "hZ1mRqoikpaR"
      },
      "execution_count": null,
      "outputs": []
    },
    {
      "cell_type": "code",
      "source": [],
      "metadata": {
        "id": "Yaq82W9Ikpay"
      },
      "execution_count": null,
      "outputs": []
    },
    {
      "cell_type": "code",
      "source": [],
      "metadata": {
        "id": "qFhGBW1Ekpbe"
      },
      "execution_count": null,
      "outputs": []
    },
    {
      "cell_type": "code",
      "source": [],
      "metadata": {
        "id": "p7MlY5GPkpcG"
      },
      "execution_count": null,
      "outputs": []
    },
    {
      "cell_type": "code",
      "source": [],
      "metadata": {
        "id": "z8JiDm1Gkpcr"
      },
      "execution_count": null,
      "outputs": []
    },
    {
      "cell_type": "code",
      "source": [],
      "metadata": {
        "id": "t6lltHGqkpdR"
      },
      "execution_count": null,
      "outputs": []
    },
    {
      "cell_type": "code",
      "source": [],
      "metadata": {
        "id": "BYoNoiHakpd2"
      },
      "execution_count": null,
      "outputs": []
    },
    {
      "cell_type": "code",
      "source": [],
      "metadata": {
        "id": "udeai9ikkpeh"
      },
      "execution_count": null,
      "outputs": []
    },
    {
      "cell_type": "code",
      "source": [],
      "metadata": {
        "id": "0VRR6W5CkpfJ"
      },
      "execution_count": null,
      "outputs": []
    },
    {
      "cell_type": "code",
      "source": [],
      "metadata": {
        "id": "mBHNmAcakpft"
      },
      "execution_count": null,
      "outputs": []
    },
    {
      "cell_type": "code",
      "source": [],
      "metadata": {
        "id": "Z0SuYgXokpgV"
      },
      "execution_count": null,
      "outputs": []
    },
    {
      "cell_type": "code",
      "source": [],
      "metadata": {
        "id": "r6b3vauSkphK"
      },
      "execution_count": null,
      "outputs": []
    },
    {
      "cell_type": "code",
      "source": [],
      "metadata": {
        "id": "2aRiAdnFkph4"
      },
      "execution_count": null,
      "outputs": []
    }
  ]
}