{
  "nbformat": 4,
  "nbformat_minor": 0,
  "metadata": {
    "colab": {
      "provenance": [],
      "authorship_tag": "ABX9TyPY9o+AFw6uW0VM4oFaFgJW",
      "include_colab_link": true
    },
    "kernelspec": {
      "name": "python3",
      "display_name": "Python 3"
    },
    "language_info": {
      "name": "python"
    }
  },
  "cells": [
    {
      "cell_type": "markdown",
      "metadata": {
        "id": "view-in-github",
        "colab_type": "text"
      },
      "source": [
        "<a href=\"https://colab.research.google.com/github/ydydydydydy/Colab/blob/main/ex102_%ED%85%8D%EC%8A%A4%ED%8A%B8_%EC%83%9D%EC%84%B1.ipynb\" target=\"_parent\"><img src=\"https://colab.research.google.com/assets/colab-badge.svg\" alt=\"Open In Colab\"/></a>"
      ]
    },
    {
      "cell_type": "code",
      "execution_count": null,
      "metadata": {
        "id": "pEgjA6DDej-S"
      },
      "outputs": [],
      "source": [
        "# input = 가는\n",
        "# output = 말이 고와야 오는 말이 곱다\n",
        "# 첫마디 입력시 뒤에 나올 말 생"
      ]
    },
    {
      "cell_type": "code",
      "source": [
        "text=\"\"\"경마장에 있는 말이 뛰고 있다\\n\n",
        "그의 말이 법이다\\n\n",
        "가는 말이 고와야 오는 말이 곱다\"\"\"\n",
        "# 바로 전의 말만 확인하고 텍스트를 생성하는 게 아니라 전에 나왔던 모든 말을 확인하고\n",
        "# 텍스트를 생성하기 때문에 '말이' 다음에 나오는 다양한 말들을 생성 가능"
      ],
      "metadata": {
        "id": "CLtdDeLeenV7"
      },
      "execution_count": 1,
      "outputs": []
    },
    {
      "cell_type": "code",
      "source": [
        "# 띄어쓰기를 기준으로 단어 분리\n",
        "from tensorflow.keras.preprocessing.text import Tokenizer\n",
        "\n",
        "t = Tokenizer()\n",
        "t.fit_on_texts([text])\n",
        "\n",
        "t.word_index"
      ],
      "metadata": {
        "colab": {
          "base_uri": "https://localhost:8080/"
        },
        "id": "w8zJt1NOenbh",
        "outputId": "72b54e98-8320-4c86-d9ee-0ec02a2452ae"
      },
      "execution_count": 3,
      "outputs": [
        {
          "output_type": "execute_result",
          "data": {
            "text/plain": [
              "{'말이': 1,\n",
              " '경마장에': 2,\n",
              " '있는': 3,\n",
              " '뛰고': 4,\n",
              " '있다': 5,\n",
              " '그의': 6,\n",
              " '법이다': 7,\n",
              " '가는': 8,\n",
              " '고와야': 9,\n",
              " '오는': 10,\n",
              " '곱다': 11}"
            ]
          },
          "metadata": {},
          "execution_count": 3
        }
      ]
    },
    {
      "cell_type": "code",
      "source": [
        "# 훈련 데이터 생성\n",
        "sequences = []\n",
        "for line in text.split('\\n'):\n",
        "  # 단어를 정수로 변경\n",
        "  encoded = t.texts_to_sequences([line])[0]\n",
        "\n",
        " # 2개 이상의 조합 생성\n",
        "  for i in range(1,len(encoded)):\n",
        "    sequence = encoded[:i+1]\n",
        "    sequences.append(sequence)"
      ],
      "metadata": {
        "id": "QUc-YiMxengn"
      },
      "execution_count": 5,
      "outputs": []
    },
    {
      "cell_type": "code",
      "source": [
        "sequences"
      ],
      "metadata": {
        "colab": {
          "base_uri": "https://localhost:8080/"
        },
        "id": "mWbAb5ihenkk",
        "outputId": "c427ff40-835c-481e-801a-fded0fd9ef96"
      },
      "execution_count": 6,
      "outputs": [
        {
          "output_type": "execute_result",
          "data": {
            "text/plain": [
              "[[2, 3],\n",
              " [2, 3, 1],\n",
              " [2, 3, 1, 4],\n",
              " [2, 3, 1, 4, 5],\n",
              " [6, 1],\n",
              " [6, 1, 7],\n",
              " [8, 1],\n",
              " [8, 1, 9],\n",
              " [8, 1, 9, 10],\n",
              " [8, 1, 9, 10, 1],\n",
              " [8, 1, 9, 10, 1, 11]]"
            ]
          },
          "metadata": {},
          "execution_count": 6
        }
      ]
    },
    {
      "cell_type": "code",
      "source": [
        "from tensorflow.keras.preprocessing.sequence import pad_sequences\n",
        "\n",
        "max_len = 6\n",
        "\n",
        "sequences = pad_sequences(sequences, maxlen = max_len)\n",
        "sequences"
      ],
      "metadata": {
        "colab": {
          "base_uri": "https://localhost:8080/"
        },
        "id": "afDuxExbenoC",
        "outputId": "6a5c30a1-5292-42d4-cbdc-386b30967403"
      },
      "execution_count": 7,
      "outputs": [
        {
          "output_type": "execute_result",
          "data": {
            "text/plain": [
              "array([[ 0,  0,  0,  0,  2,  3],\n",
              "       [ 0,  0,  0,  2,  3,  1],\n",
              "       [ 0,  0,  2,  3,  1,  4],\n",
              "       [ 0,  2,  3,  1,  4,  5],\n",
              "       [ 0,  0,  0,  0,  6,  1],\n",
              "       [ 0,  0,  0,  6,  1,  7],\n",
              "       [ 0,  0,  0,  0,  8,  1],\n",
              "       [ 0,  0,  0,  8,  1,  9],\n",
              "       [ 0,  0,  8,  1,  9, 10],\n",
              "       [ 0,  8,  1,  9, 10,  1],\n",
              "       [ 8,  1,  9, 10,  1, 11]], dtype=int32)"
            ]
          },
          "metadata": {},
          "execution_count": 7
        }
      ]
    },
    {
      "cell_type": "code",
      "source": [
        "import numpy as np\n",
        "sequences = np.array(sequences)\n",
        "X = sequences[:,:-1] # 문제 데이터 앞에 5 단어 // (array [0, 0, 0, 0, 2 ])\n",
        "y = sequences[:,-1] # 정답 데이터 뒤에 1 단어 // (array [3])"
      ],
      "metadata": {
        "id": "U6mNWfGDenra"
      },
      "execution_count": 8,
      "outputs": []
    },
    {
      "cell_type": "code",
      "source": [
        "# 원핫인코딩\n",
        "from tensorflow.keras.utils import to_categorical\n",
        "\n",
        "y_en = to_categorical(y,num_classes = 12)\n",
        "y_en"
      ],
      "metadata": {
        "colab": {
          "base_uri": "https://localhost:8080/"
        },
        "id": "kNvnnLT0enuz",
        "outputId": "11548e43-5f19-4543-9427-9cd37366739b"
      },
      "execution_count": 9,
      "outputs": [
        {
          "output_type": "execute_result",
          "data": {
            "text/plain": [
              "array([[0., 0., 0., 1., 0., 0., 0., 0., 0., 0., 0., 0.],\n",
              "       [0., 1., 0., 0., 0., 0., 0., 0., 0., 0., 0., 0.],\n",
              "       [0., 0., 0., 0., 1., 0., 0., 0., 0., 0., 0., 0.],\n",
              "       [0., 0., 0., 0., 0., 1., 0., 0., 0., 0., 0., 0.],\n",
              "       [0., 1., 0., 0., 0., 0., 0., 0., 0., 0., 0., 0.],\n",
              "       [0., 0., 0., 0., 0., 0., 0., 1., 0., 0., 0., 0.],\n",
              "       [0., 1., 0., 0., 0., 0., 0., 0., 0., 0., 0., 0.],\n",
              "       [0., 0., 0., 0., 0., 0., 0., 0., 0., 1., 0., 0.],\n",
              "       [0., 0., 0., 0., 0., 0., 0., 0., 0., 0., 1., 0.],\n",
              "       [0., 1., 0., 0., 0., 0., 0., 0., 0., 0., 0., 0.],\n",
              "       [0., 0., 0., 0., 0., 0., 0., 0., 0., 0., 0., 1.]], dtype=float32)"
            ]
          },
          "metadata": {},
          "execution_count": 9
        }
      ]
    },
    {
      "cell_type": "code",
      "source": [
        "from tensorflow.keras.layers import Embedding, Dense, SimpleRNN\n",
        "from tensorflow.keras import Sequential\n",
        "\n",
        "model1 = Sequential()\n",
        "\n",
        "model1.add(Embedding(12,10,input_length = 5))\n",
        "model1.add(SimpleRNN(32))\n",
        "model1.add(Dense(units = 12, activation = 'softmax'))\n",
        "\n",
        "model1.compile(\n",
        "    loss = 'categorical_crossentropy',\n",
        "    optimizer = 'adam',\n",
        "    metrics = ['accuracy']\n",
        ")\n",
        "\n",
        "model1.fit(X, y_en, epochs = 200)"
      ],
      "metadata": {
        "id": "EBkV7-70enxx"
      },
      "execution_count": null,
      "outputs": []
    },
    {
      "cell_type": "code",
      "source": [
        "# 학습 모델 사용해서 텍스트 생성기능 만들기\n",
        "# 사용할 모델, 토크나이저, 입력 단어, 생성할 단어 수\n",
        "def make_sentence(model, t, current_word, n):\n",
        "  init_word = current_word # 마지막에 같이 출력하기 위함\n",
        "  sentence = ''\n",
        "  for _ in range(n):\n",
        "    encoded = t.texts_to_sequences([current_word])[0]\n",
        "    print(encoded) # 번호 확인\n",
        "    print(current_word) # 입력 단어 확인\n",
        "    # 데이터를 같은 길이(5)로 맞춰주기\n",
        "    encoded = pad_sequences([encoded], maxlen = max_len - 1)\n",
        "    # 입력한 단어로 예측하기\n",
        "    result = model.predict(encoded, verbose = 0).argmax(axis= -1)\n",
        "    for word, index in t.word_index.items():\n",
        "      if index == result:\n",
        "        break\n",
        "\n",
        "    # 현재단어 + \" \" + 예측단어를 현재 단어로 변경\n",
        "    current_word = current_word + \" \" + word\n",
        "\n",
        "    sentence = sentence + \" \" + word\n",
        "  # 문장 생성\n",
        "  sentence = init_word + sentence\n",
        "\n",
        "  return sentence"
      ],
      "metadata": {
        "id": "88FTkwcken08"
      },
      "execution_count": 12,
      "outputs": []
    },
    {
      "cell_type": "code",
      "source": [
        "# 인공지능 딥러닝 모델, 토큰화 모델, 시작 단어\n",
        "# 경마장에 있는 말이 뛰고 있다\n",
        "# 그의 말이 법이다\n",
        "# 가는 말이 고와야 오는 말이 곱다\n",
        "print(make_sentence(model1, t, '경마장에', 4)) # 출력해야 되는 말이 4개"
      ],
      "metadata": {
        "colab": {
          "base_uri": "https://localhost:8080/"
        },
        "id": "lPDb_Ijlit1A",
        "outputId": "884b4634-8efe-4eab-a562-1ecace82b8a4"
      },
      "execution_count": 14,
      "outputs": [
        {
          "output_type": "stream",
          "name": "stdout",
          "text": [
            "[2]\n",
            "경마장에\n",
            "[2, 3]\n",
            "경마장에 있는\n",
            "[2, 3, 1]\n",
            "경마장에 있는 말이\n",
            "[2, 3, 1, 4]\n",
            "경마장에 있는 말이 뛰고\n",
            "경마장에 있는 말이 뛰고 있다\n"
          ]
        }
      ]
    },
    {
      "cell_type": "code",
      "source": [
        "print(make_sentence(model1, t, '그의', 2))"
      ],
      "metadata": {
        "colab": {
          "base_uri": "https://localhost:8080/"
        },
        "id": "kiQESBIoitQj",
        "outputId": "004366e5-13e1-41dd-b7dc-af7e2eb3af72"
      },
      "execution_count": 15,
      "outputs": [
        {
          "output_type": "stream",
          "name": "stdout",
          "text": [
            "[6]\n",
            "그의\n",
            "[6, 1]\n",
            "그의 말이\n",
            "그의 말이 법이다\n"
          ]
        }
      ]
    },
    {
      "cell_type": "code",
      "source": [
        "print(make_sentence(model1, t, '가는', 5))"
      ],
      "metadata": {
        "colab": {
          "base_uri": "https://localhost:8080/"
        },
        "id": "oTVB-lNNen3w",
        "outputId": "5d81b32d-5e9c-4d4c-c2f0-dd9747429641"
      },
      "execution_count": 16,
      "outputs": [
        {
          "output_type": "stream",
          "name": "stdout",
          "text": [
            "[8]\n",
            "가는\n",
            "[8, 1]\n",
            "가는 말이\n",
            "[8, 1, 9]\n",
            "가는 말이 고와야\n",
            "[8, 1, 9, 10]\n",
            "가는 말이 고와야 오는\n",
            "[8, 1, 9, 10, 1]\n",
            "가는 말이 고와야 오는 말이\n",
            "가는 말이 고와야 오는 말이 곱다\n"
          ]
        }
      ]
    }
  ]
}