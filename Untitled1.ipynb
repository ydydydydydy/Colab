{
  "nbformat": 4,
  "nbformat_minor": 0,
  "metadata": {
    "colab": {
      "provenance": [],
      "mount_file_id": "14FaeImIVOZFj-1lqiQaQwcxctwGhehMB",
      "authorship_tag": "ABX9TyNdCOmV4OrNmwwZoxpHhi9I",
      "include_colab_link": true
    },
    "kernelspec": {
      "name": "python3",
      "display_name": "Python 3"
    },
    "language_info": {
      "name": "python"
    }
  },
  "cells": [
    {
      "cell_type": "markdown",
      "metadata": {
        "id": "view-in-github",
        "colab_type": "text"
      },
      "source": [
        "<a href=\"https://colab.research.google.com/github/ydydydydydy/Colab/blob/main/Untitled1.ipynb\" target=\"_parent\"><img src=\"https://colab.research.google.com/assets/colab-badge.svg\" alt=\"Open In Colab\"/></a>"
      ]
    },
    {
      "cell_type": "code",
      "execution_count": null,
      "metadata": {
        "id": "ddFHXTalwzGS"
      },
      "outputs": [],
      "source": [
        "list_fruit = [\"사과\", \"배\", \"포도\", \"딸기\"]"
      ]
    },
    {
      "cell_type": "code",
      "source": [
        "list_fruit.insert(1, \"망고\")"
      ],
      "metadata": {
        "id": "0cdCsp_5xr-c"
      },
      "execution_count": null,
      "outputs": []
    },
    {
      "cell_type": "code",
      "source": [
        "list_fruit.append(\"바나나\")"
      ],
      "metadata": {
        "id": "-jHuBQcTxu1y"
      },
      "execution_count": null,
      "outputs": []
    },
    {
      "cell_type": "code",
      "source": [
        "print(list_fruit)"
      ],
      "metadata": {
        "colab": {
          "base_uri": "https://localhost:8080/"
        },
        "id": "PmygbgSHxwst",
        "outputId": "46e1f417-438e-459e-bb46-49db27c8a517"
      },
      "execution_count": null,
      "outputs": [
        {
          "output_type": "stream",
          "name": "stdout",
          "text": [
            "['사과', '망고', '배', '포도', '딸기', '바나나']\n"
          ]
        }
      ]
    },
    {
      "cell_type": "code",
      "source": [
        "def add_num(a, b):\n",
        "    result = a + b\n",
        "    return result"
      ],
      "metadata": {
        "id": "aZXCl3xvxyHO"
      },
      "execution_count": null,
      "outputs": []
    },
    {
      "cell_type": "code",
      "source": [
        "result = add_num(10, 3)\n",
        "print(result)"
      ],
      "metadata": {
        "colab": {
          "base_uri": "https://localhost:8080/"
        },
        "id": "BpAZm9GayoWh",
        "outputId": "ce9ec59b-2396-4a41-c229-975bac85f8f4"
      },
      "execution_count": null,
      "outputs": [
        {
          "output_type": "stream",
          "name": "stdout",
          "text": [
            "13\n"
          ]
        }
      ]
    },
    {
      "cell_type": "code",
      "source": [
        "num1 = int(input(\"첫 번째 정수 입력: \"))\n",
        "num2 = int(input(\"두 번째 정수 입력: \"))\n",
        "operator = input(\"연산자 입력 (+, -, *, /): \")\n",
        "if operator == '+':\n",
        "    result = num1 + num2\n",
        "elif operator == '-':\n",
        "    result = num1 - num2\n",
        "elif operator == '*':\n",
        "    result = num1 * num2\n",
        "elif operator == '/':\n",
        "    # 0으로 나누기 예외 처리\n",
        "    if num2 != 0:\n",
        "        result = num1 / num2\n",
        "\n",
        "print(\"연산결과:\", result)"
      ],
      "metadata": {
        "colab": {
          "base_uri": "https://localhost:8080/"
        },
        "id": "1WvJvvv4ypnK",
        "outputId": "d38a0107-3ec1-4e54-ebc2-776d5503464b"
      },
      "execution_count": null,
      "outputs": [
        {
          "output_type": "stream",
          "name": "stdout",
          "text": [
            "첫 번째 정수 입력: 10\n",
            "두 번째 정수 입력: 5\n",
            "연산자 입력 (+, -, *, /): +\n",
            "연산결과: 15\n"
          ]
        }
      ]
    },
    {
      "cell_type": "code",
      "source": [
        "for i in range(2, 10):  # 2부터 9까지 반복\n",
        "    for j in range(1, 10):  # 1부터 9까지 반복\n",
        "        print(f\"{i} * {j} = {i * j}\", end=\"  \")  # 구구단 출력\n",
        "    print()  # 한 단 출력 후 줄 바꿈"
      ],
      "metadata": {
        "colab": {
          "base_uri": "https://localhost:8080/"
        },
        "id": "TIGH3T2HzdCj",
        "outputId": "630e7684-a2c3-4e1f-d9a8-082a053f6918"
      },
      "execution_count": null,
      "outputs": [
        {
          "output_type": "stream",
          "name": "stdout",
          "text": [
            "2 * 1 = 2  2 * 2 = 4  2 * 3 = 6  2 * 4 = 8  2 * 5 = 10  2 * 6 = 12  2 * 7 = 14  2 * 8 = 16  2 * 9 = 18  \n",
            "3 * 1 = 3  3 * 2 = 6  3 * 3 = 9  3 * 4 = 12  3 * 5 = 15  3 * 6 = 18  3 * 7 = 21  3 * 8 = 24  3 * 9 = 27  \n",
            "4 * 1 = 4  4 * 2 = 8  4 * 3 = 12  4 * 4 = 16  4 * 5 = 20  4 * 6 = 24  4 * 7 = 28  4 * 8 = 32  4 * 9 = 36  \n",
            "5 * 1 = 5  5 * 2 = 10  5 * 3 = 15  5 * 4 = 20  5 * 5 = 25  5 * 6 = 30  5 * 7 = 35  5 * 8 = 40  5 * 9 = 45  \n",
            "6 * 1 = 6  6 * 2 = 12  6 * 3 = 18  6 * 4 = 24  6 * 5 = 30  6 * 6 = 36  6 * 7 = 42  6 * 8 = 48  6 * 9 = 54  \n",
            "7 * 1 = 7  7 * 2 = 14  7 * 3 = 21  7 * 4 = 28  7 * 5 = 35  7 * 6 = 42  7 * 7 = 49  7 * 8 = 56  7 * 9 = 63  \n",
            "8 * 1 = 8  8 * 2 = 16  8 * 3 = 24  8 * 4 = 32  8 * 5 = 40  8 * 6 = 48  8 * 7 = 56  8 * 8 = 64  8 * 9 = 72  \n",
            "9 * 1 = 9  9 * 2 = 18  9 * 3 = 27  9 * 4 = 36  9 * 5 = 45  9 * 6 = 54  9 * 7 = 63  9 * 8 = 72  9 * 9 = 81  \n"
          ]
        }
      ]
    },
    {
      "cell_type": "code",
      "source": [
        "class MP3Player:\n",
        "    # 생성자\n",
        "    def __init__(self, name=\"\", color=\"\", power=False):\n",
        "        self.name = name  # 모델명\n",
        "        self.color = color  # 색상\n",
        "        self.power = power  # 전원상태\n",
        "\n",
        "    # 전원 켜기/끄기 메소드\n",
        "    def powerOnOff(self, onOff):\n",
        "        pass\n",
        "\n",
        "    # 재생 기능 메소드\n",
        "    def play(self):\n",
        "        pass\n",
        "\n",
        "    # 정지 기능 메소드\n",
        "    def stop(self):\n",
        "        pass\n",
        "\n",
        "    # 삭제 기능 메소드\n",
        "    def remove(self, number):\n",
        "        pass\n"
      ],
      "metadata": {
        "id": "TU5DwdJb0lQv"
      },
      "execution_count": null,
      "outputs": []
    },
    {
      "cell_type": "code",
      "source": [
        "class WordChainGame:\n",
        "    def __init__(self):\n",
        "        self.score = 0\n",
        "\n",
        "    def start_game(self):\n",
        "        print(\"********** 끝말잇기 게임을 시작하겠습니다 **********\")\n",
        "        current_word = input(\"첫번째 단어를 입력하세요: \")\n",
        "        self.play_game(current_word)\n",
        "\n",
        "    def play_game(self, current_word):\n",
        "        while True:\n",
        "            user_input = input(\"단어 >> \")\n",
        "            if self.check_validity(current_word, user_input):\n",
        "                current_word = user_input\n",
        "                self.score += 1\n",
        "            else:\n",
        "                print(\"끝말잇기 끝!\")\n",
        "                print(f\"{self.score}점 입니다!\")\n",
        "                break\n",
        "\n",
        "    def check_validity(self, current_word, user_input):\n",
        "        if current_word[-1] == user_input[0]:\n",
        "            return True\n",
        "        else:\n",
        "            print(\"끝말잇기에 실패하였습니다.\")\n",
        "            return False"
      ],
      "metadata": {
        "id": "OeKx5Hgx2AJ_"
      },
      "execution_count": null,
      "outputs": []
    },
    {
      "cell_type": "code",
      "source": [
        "game = WordChainGame()\n",
        "game.start_game()"
      ],
      "metadata": {
        "colab": {
          "base_uri": "https://localhost:8080/"
        },
        "id": "cFSbT_663IKY",
        "outputId": "ea320954-d3d1-45d5-b29c-3b9fa44ffd5f"
      },
      "execution_count": null,
      "outputs": [
        {
          "output_type": "stream",
          "name": "stdout",
          "text": [
            "********** 끝말잇기 게임을 시작하겠습니다 **********\n",
            "첫번째 단어를 입력하세요: 자전거\n",
            "단어 >> 거인\n",
            "단어 >> 인간\n",
            "단어 >> 간장소스\n",
            "단어 >> 스리라차\n",
            "단어 >> 자동차\n",
            "끝말잇기에 실패하였습니다.\n",
            "끝말잇기 끝!\n",
            "4점 입니다!\n"
          ]
        }
      ]
    },
    {
      "cell_type": "code",
      "source": [
        "drink_dic = {\"콜라\": 800, \"사이다\": 800, \"제로콜라\": 1200, \"환타\": 900, \"트레비\": 1100}"
      ],
      "metadata": {
        "id": "FVXar9Tc5Yig"
      },
      "execution_count": null,
      "outputs": []
    },
    {
      "cell_type": "code",
      "source": [
        "def display_menu():\n",
        "    print(\"음료수 자판기에 오신 것을 환영합니다!\")\n",
        "    menu_str = \" \".join([f\"{drink}({price}원)\" for drink, price in drink_dic.items()])\n",
        "    print(menu_str)\n",
        "\n",
        "def vending_machine():\n",
        "    total_amount = int(input(\"금액을 입력하세요 >> \"))\n",
        "\n",
        "    while True:\n",
        "        display_menu()\n",
        "        selected_drink = input(\"원하는 음료를 입력하세요! (종료를 입력시 종료합니다) >> \")\n",
        "\n",
        "        if selected_drink == \"종료\":\n",
        "            break\n",
        "\n",
        "        if selected_drink in drink_dic:\n",
        "            price = drink_dic[selected_drink]\n",
        "            if total_amount >= price:\n",
        "                total_amount -= price\n",
        "                print(\"잔돈 :\", total_amount)\n",
        "                print(\"이용해주셔서 감사합니다!\")\n",
        "            else:\n",
        "                print(\"금액이 부족합니다.\")\n",
        "                print(f\"{total_amount}원 돌려드리겠습니다.\")\n",
        "                break\n",
        "        else:\n",
        "            print(\"음료를 잘못 입력하셨습니다!\")"
      ],
      "metadata": {
        "id": "2Zco2R_C7Pyp"
      },
      "execution_count": 34,
      "outputs": []
    },
    {
      "cell_type": "code",
      "source": [
        "vending_machine()"
      ],
      "metadata": {
        "colab": {
          "base_uri": "https://localhost:8080/",
          "height": 453
        },
        "id": "nDH2dmvv7XEJ",
        "outputId": "5e76c5a0-daf7-4a95-fff9-9055fdb5262e"
      },
      "execution_count": 35,
      "outputs": [
        {
          "output_type": "stream",
          "name": "stdout",
          "text": [
            "금액을 입력하세요 >> 2000\n",
            "음료수 자판기에 오신 것을 환영합니다!\n",
            "콜라(800원) 사이다(800원) 제로콜라(1200원) 환타(900원) 트레비(1100원)\n",
            "원하는 음료를 입력하세요! (종료를 입력시 종료합니다) >> 사이다\n",
            "잔돈 : 1200\n",
            "이용해주셔서 감사합니다!\n",
            "음료수 자판기에 오신 것을 환영합니다!\n",
            "콜라(800원) 사이다(800원) 제로콜라(1200원) 환타(900원) 트레비(1100원)\n"
          ]
        },
        {
          "output_type": "error",
          "ename": "KeyboardInterrupt",
          "evalue": "ignored",
          "traceback": [
            "\u001b[0;31m---------------------------------------------------------------------------\u001b[0m",
            "\u001b[0;31mKeyboardInterrupt\u001b[0m                         Traceback (most recent call last)",
            "\u001b[0;32m<ipython-input-35-372856c21bbc>\u001b[0m in \u001b[0;36m<cell line: 1>\u001b[0;34m()\u001b[0m\n\u001b[0;32m----> 1\u001b[0;31m \u001b[0mvending_machine\u001b[0m\u001b[0;34m(\u001b[0m\u001b[0;34m)\u001b[0m\u001b[0;34m\u001b[0m\u001b[0;34m\u001b[0m\u001b[0m\n\u001b[0m",
            "\u001b[0;32m<ipython-input-34-2862a6afefd4>\u001b[0m in \u001b[0;36mvending_machine\u001b[0;34m()\u001b[0m\n\u001b[1;32m      9\u001b[0m     \u001b[0;32mwhile\u001b[0m \u001b[0;32mTrue\u001b[0m\u001b[0;34m:\u001b[0m\u001b[0;34m\u001b[0m\u001b[0;34m\u001b[0m\u001b[0m\n\u001b[1;32m     10\u001b[0m         \u001b[0mdisplay_menu\u001b[0m\u001b[0;34m(\u001b[0m\u001b[0;34m)\u001b[0m\u001b[0;34m\u001b[0m\u001b[0;34m\u001b[0m\u001b[0m\n\u001b[0;32m---> 11\u001b[0;31m         \u001b[0mselected_drink\u001b[0m \u001b[0;34m=\u001b[0m \u001b[0minput\u001b[0m\u001b[0;34m(\u001b[0m\u001b[0;34m\"원하는 음료를 입력하세요! (종료를 입력시 종료합니다) >> \"\u001b[0m\u001b[0;34m)\u001b[0m\u001b[0;34m\u001b[0m\u001b[0;34m\u001b[0m\u001b[0m\n\u001b[0m\u001b[1;32m     12\u001b[0m \u001b[0;34m\u001b[0m\u001b[0m\n\u001b[1;32m     13\u001b[0m         \u001b[0;32mif\u001b[0m \u001b[0mselected_drink\u001b[0m \u001b[0;34m==\u001b[0m \u001b[0;34m\"종료\"\u001b[0m\u001b[0;34m:\u001b[0m\u001b[0;34m\u001b[0m\u001b[0;34m\u001b[0m\u001b[0m\n",
            "\u001b[0;32m/usr/local/lib/python3.10/dist-packages/ipykernel/kernelbase.py\u001b[0m in \u001b[0;36mraw_input\u001b[0;34m(self, prompt)\u001b[0m\n\u001b[1;32m    849\u001b[0m                 \u001b[0;34m\"raw_input was called, but this frontend does not support input requests.\"\u001b[0m\u001b[0;34m\u001b[0m\u001b[0;34m\u001b[0m\u001b[0m\n\u001b[1;32m    850\u001b[0m             )\n\u001b[0;32m--> 851\u001b[0;31m         return self._input_request(str(prompt),\n\u001b[0m\u001b[1;32m    852\u001b[0m             \u001b[0mself\u001b[0m\u001b[0;34m.\u001b[0m\u001b[0m_parent_ident\u001b[0m\u001b[0;34m,\u001b[0m\u001b[0;34m\u001b[0m\u001b[0;34m\u001b[0m\u001b[0m\n\u001b[1;32m    853\u001b[0m             \u001b[0mself\u001b[0m\u001b[0;34m.\u001b[0m\u001b[0m_parent_header\u001b[0m\u001b[0;34m,\u001b[0m\u001b[0;34m\u001b[0m\u001b[0;34m\u001b[0m\u001b[0m\n",
            "\u001b[0;32m/usr/local/lib/python3.10/dist-packages/ipykernel/kernelbase.py\u001b[0m in \u001b[0;36m_input_request\u001b[0;34m(self, prompt, ident, parent, password)\u001b[0m\n\u001b[1;32m    893\u001b[0m             \u001b[0;32mexcept\u001b[0m \u001b[0mKeyboardInterrupt\u001b[0m\u001b[0;34m:\u001b[0m\u001b[0;34m\u001b[0m\u001b[0;34m\u001b[0m\u001b[0m\n\u001b[1;32m    894\u001b[0m                 \u001b[0;31m# re-raise KeyboardInterrupt, to truncate traceback\u001b[0m\u001b[0;34m\u001b[0m\u001b[0;34m\u001b[0m\u001b[0m\n\u001b[0;32m--> 895\u001b[0;31m                 \u001b[0;32mraise\u001b[0m \u001b[0mKeyboardInterrupt\u001b[0m\u001b[0;34m(\u001b[0m\u001b[0;34m\"Interrupted by user\"\u001b[0m\u001b[0;34m)\u001b[0m \u001b[0;32mfrom\u001b[0m \u001b[0;32mNone\u001b[0m\u001b[0;34m\u001b[0m\u001b[0;34m\u001b[0m\u001b[0m\n\u001b[0m\u001b[1;32m    896\u001b[0m             \u001b[0;32mexcept\u001b[0m \u001b[0mException\u001b[0m \u001b[0;32mas\u001b[0m \u001b[0me\u001b[0m\u001b[0;34m:\u001b[0m\u001b[0;34m\u001b[0m\u001b[0;34m\u001b[0m\u001b[0m\n\u001b[1;32m    897\u001b[0m                 \u001b[0mself\u001b[0m\u001b[0;34m.\u001b[0m\u001b[0mlog\u001b[0m\u001b[0;34m.\u001b[0m\u001b[0mwarning\u001b[0m\u001b[0;34m(\u001b[0m\u001b[0;34m\"Invalid Message:\"\u001b[0m\u001b[0;34m,\u001b[0m \u001b[0mexc_info\u001b[0m\u001b[0;34m=\u001b[0m\u001b[0;32mTrue\u001b[0m\u001b[0;34m)\u001b[0m\u001b[0;34m\u001b[0m\u001b[0;34m\u001b[0m\u001b[0m\n",
            "\u001b[0;31mKeyboardInterrupt\u001b[0m: Interrupted by user"
          ]
        }
      ]
    },
    {
      "cell_type": "code",
      "source": [],
      "metadata": {
        "id": "NbTHZBsH-tY_"
      },
      "execution_count": null,
      "outputs": []
    }
  ]
}