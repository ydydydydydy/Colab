{
  "nbformat": 4,
  "nbformat_minor": 0,
  "metadata": {
    "colab": {
      "provenance": [],
      "authorship_tag": "ABX9TyNp6NuwUF5SMyvhFLMdzBWV",
      "include_colab_link": true
    },
    "kernelspec": {
      "name": "python3",
      "display_name": "Python 3"
    },
    "language_info": {
      "name": "python"
    }
  },
  "cells": [
    {
      "cell_type": "markdown",
      "metadata": {
        "id": "view-in-github",
        "colab_type": "text"
      },
      "source": [
        "<a href=\"https://colab.research.google.com/github/ydydydydydy/Colab/blob/main/ex02_%EC%86%90%EA%B8%80%EC%94%A8%EB%8D%B0%EC%9D%B4%ED%84%B0_%EB%B6%84%EB%A5%98(%EB%8B%A4%EC%A4%91%EB%B6%84%EB%A5%98).ipynb\" target=\"_parent\"><img src=\"https://colab.research.google.com/assets/colab-badge.svg\" alt=\"Open In Colab\"/></a>"
      ]
    },
    {
      "cell_type": "markdown",
      "source": [
        "### 목표\n",
        "- 손글씨 데이터를 분류하는 딥러닝 모델을 설계해보자\n",
        "- 다중분류 딥러닝 모델링을 연습해보자"
      ],
      "metadata": {
        "id": "S1S8yv8de89-"
      }
    },
    {
      "cell_type": "code",
      "source": [
        "# 기본 라이브러리 불러오기\n",
        "import numpy as np\n",
        "import pandas as pd\n",
        "import matplotlib.pyplot as plt"
      ],
      "metadata": {
        "id": "EGiHPuPUfEGr"
      },
      "execution_count": 2,
      "outputs": []
    },
    {
      "cell_type": "markdown",
      "source": [
        "### 데이터 로딩"
      ],
      "metadata": {
        "id": "JE_Hk0rVfEMt"
      }
    },
    {
      "cell_type": "code",
      "source": [
        "# keras에서 제공해주는 손글씨 데이터 불러오기\n",
        "from tensorflow.keras.datasets import mnist"
      ],
      "metadata": {
        "id": "qo0HVlBffES_"
      },
      "execution_count": 3,
      "outputs": []
    },
    {
      "cell_type": "code",
      "source": [
        "# 문제데이터와 정답데이터가 나뉘어 제공해주고 있음\n",
        "# 훈련용, 테스트용 데이터도 나뉘어 제공\n",
        "(X_train, y_train), (X_test, y_test) = mnist.load_data()"
      ],
      "metadata": {
        "colab": {
          "base_uri": "https://localhost:8080/"
        },
        "id": "I3UHgDbsfEXE",
        "outputId": "c14a1a23-bcbe-4bed-8443-f7088d856c99"
      },
      "execution_count": 4,
      "outputs": [
        {
          "output_type": "stream",
          "name": "stdout",
          "text": [
            "Downloading data from https://storage.googleapis.com/tensorflow/tf-keras-datasets/mnist.npz\n",
            "11490434/11490434 [==============================] - 0s 0us/step\n"
          ]
        }
      ]
    },
    {
      "cell_type": "code",
      "source": [
        "# 데이터 크기 확인\n",
        "print(X_train.shape, y_train.shape)\n",
        "print(X_test.shape, y_test.shape)\n",
        "# 훈련데이터 6만장, 테스트 데이터 1만장\n",
        "# 28*28 픽셀\n",
        "# 픽셀: 사진의 정보를 가지고있는 단위 (작은 사각형 하나가 1픽셀)"
      ],
      "metadata": {
        "colab": {
          "base_uri": "https://localhost:8080/"
        },
        "id": "vsNwWLRDfEal",
        "outputId": "6e51a6cd-572e-45e8-a183-f2444c792860"
      },
      "execution_count": 6,
      "outputs": [
        {
          "output_type": "stream",
          "name": "stdout",
          "text": [
            "(60000, 28, 28) (60000,)\n",
            "(10000, 28, 28) (10000,)\n"
          ]
        }
      ]
    },
    {
      "cell_type": "code",
      "source": [
        "# 사진데이터 확인\n",
        "plt.imshow(X_train[1003], cmap='gray')\n",
        "# 흑백사진\n",
        "# 0 ~ 255 검정색의 정도를 숫자로 가진다"
      ],
      "metadata": {
        "colab": {
          "base_uri": "https://localhost:8080/",
          "height": 448
        },
        "id": "XJ8mi28mfEd4",
        "outputId": "4f18fcd2-2157-431e-bd4c-469cd74d1a40"
      },
      "execution_count": 10,
      "outputs": [
        {
          "output_type": "execute_result",
          "data": {
            "text/plain": [
              "<matplotlib.image.AxesImage at 0x7d72f2622980>"
            ]
          },
          "metadata": {},
          "execution_count": 10
        },
        {
          "output_type": "display_data",
          "data": {
            "text/plain": [
              "<Figure size 640x480 with 1 Axes>"
            ],
            "image/png": "[encoded data removed]"
          },
          "metadata": {}
        }
      ]
    },
    {
      "cell_type": "code",
      "source": [
        "# 정답데이터 확인\n",
        "np.unique(y_train)"
      ],
      "metadata": {
        "colab": {
          "base_uri": "https://localhost:8080/"
        },
        "id": "gENT__c-fEhP",
        "outputId": "5ad9621e-003f-4282-be8e-acf83ab2df45"
      },
      "execution_count": 9,
      "outputs": [
        {
          "output_type": "execute_result",
          "data": {
            "text/plain": [
              "array([0, 1, 2, 3, 4, 5, 6, 7, 8, 9], dtype=uint8)"
            ]
          },
          "metadata": {},
          "execution_count": 9
        }
      ]
    },
    {
      "cell_type": "markdown",
      "source": [
        "### MLP 모델링\n",
        "- 입력층의 구조, 출력층의 구조 고려\n",
        "- 학습능력을 위한 중간층의 깊이 고려\n",
        "- loss, optimizer 설정\n"
      ],
      "metadata": {
        "id": "oiLQuhGifEkd"
      }
    },
    {
      "cell_type": "code",
      "source": [
        "# 딥러닝 라이브러리 불러오기\n",
        "from tensorflow.keras.models import Sequential\n",
        "from tensorflow.keras.layers import Dense, InputLayer, Flatten\n",
        "# Dense: 퍼셉트론을 묶음으로 표현하는 클래스\n",
        "# InputLayer: 입력층 설정\n",
        "# Flatten: 2차원의 사진 데이터를 1차원으로 표현하기위한 클래스"
      ],
      "metadata": {
        "id": "Ft75qDVyfEnb"
      },
      "execution_count": 12,
      "outputs": []
    },
    {
      "cell_type": "code",
      "source": [
        "# 1. 신경망 설계\n",
        "# 뼈대\n",
        "digit_model = Sequential()\n",
        "# 입력층\n",
        "digit_model.add(InputLayer (input_shape = (28,28))) # 28*28의 2차원 데이터\n",
        "# 중간층 (은닉층)\n",
        "digit_model.add(Flatten()) # 2차원의 사진데이터를 1차원으로 변경 (선형모델을 위한 작업)\n",
        "digit_model.add(Dense(units = 16, activation = 'sigmoid'))\n",
        "digit_model.add(Dense(units = 8, activation = 'sigmoid'))\n",
        "# 출력층\n",
        "digit_model.add(Dense(units = 10, activation = 'softmax'))\n",
        "# 다중분류(softmax): 클래스의 개수만큼 선형모델이 필요하다\n",
        "# 활성화함수: softmax (클래스개수만큼 확률값이 출력 -> 총합을 1로 만들어주는 함수)"
      ],
      "metadata": {
        "id": "mRDdhAeofEqc"
      },
      "execution_count": 13,
      "outputs": []
    },
    {
      "cell_type": "markdown",
      "source": [
        "##### 퍼셉트론: 선형모델 + 활성화함수\n",
        "\n",
        "*활성화함수 (중간층, 출력층에서 사용)\n",
        "- 중간층: 활성화/비활성화(역치)\n",
        "   스텝펑션 -> 시그모이드\n",
        "   (왜? 최적화알고리즘 경사하강법을 적용하기 위해서\n",
        "   기울기와 역치개념을 가지는 시그모이드를 사용\n",
        "\n",
        "- 출력층 : 최종 결과의 형태를 결정\n",
        "(내가 출력하고자하는 형태에 따라 다르게 작성, units /activation)\n",
        "\n",
        "[출력형태에 따른 unit 의 개수]\n",
        "- 회귀: units = 1\n",
        "- 이진분류: units = 1\n",
        "- 다중분류: units = 클래스의 개수\n",
        "\n",
        "[출력 형태에 따른 활성화함수의 종류]\n",
        "- 회귀: linear (항등함수, y = x 선형모델이 예측한 데이터를 그대로 출력) 기본값,적어주지 않아도 괜찮다\n",
        "- 이진분류: sigmoid (0~1 사이의 확률값을 출력)\n",
        "- 다중분류: softmax (클래스의 개수만큼 확률값을 출력 -> 각각의 확률값의 총합이 1이 되도록 출력)\n",
        "\n",
        "[정리]\n",
        "#### 출력층에서 사용하는 unit 의 개수와 활성화 함수\n",
        "- 회귀: units = 1, activation = 'linear' (default)\n",
        "- 이진분류: units = 1, activation = 'sigmoid'\n",
        "- 다중분류: units = 클래스의 개수, activation = 'softmax'"
      ],
      "metadata": {
        "id": "MGHZkJRwuohT"
      }
    },
    {
      "cell_type": "code",
      "source": [
        "# 2. 모델학습 및 평가 방법 설정\n",
        "digit_model.compile(loss = 'categorycal_crossentropy',\n",
        "                    optimizer = 'SGD',\n",
        "                    metrics = ['accuracy'])\n",
        "# loss: 오차 실제값과 예측값의 차이\n",
        "# 회귀: mean_squared_error\n",
        "# 이진분류: binary_crossentropy\n",
        "# 다중분류: categorical_crossentropy"
      ],
      "metadata": {
        "id": "xktgzxPEfEte"
      },
      "execution_count": 14,
      "outputs": []
    },
    {
      "cell_type": "code",
      "source": [
        "# 3. 모델 학습 및 시각화\n"
      ],
      "metadata": {
        "id": "hkPCXhgRfEwp"
      },
      "execution_count": null,
      "outputs": []
    },
    {
      "cell_type": "code",
      "source": [
        "# 4. 모델 예측 및 평가\n"
      ],
      "metadata": {
        "id": "7DjozGJAfEzv"
      },
      "execution_count": null,
      "outputs": []
    },
    {
      "cell_type": "code",
      "source": [],
      "metadata": {
        "id": "3Q83SGA1fE2_"
      },
      "execution_count": null,
      "outputs": []
    },
    {
      "cell_type": "code",
      "source": [],
      "metadata": {
        "id": "xQtx64KDfE51"
      },
      "execution_count": null,
      "outputs": []
    }
  ]
}