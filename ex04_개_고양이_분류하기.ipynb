{
  "cells": [
    {
      "cell_type": "markdown",
      "metadata": {
        "id": "view-in-github",
        "colab_type": "text"
      },
      "source": [
        "<a href=\"https://colab.research.google.com/github/ydydydydydy/Colab/blob/main/ex04_%EA%B0%9C_%EA%B3%A0%EC%96%91%EC%9D%B4_%EB%B6%84%EB%A5%98%ED%95%98%EA%B8%B0.ipynb\" target=\"_parent\"><img src=\"https://colab.research.google.com/assets/colab-badge.svg\" alt=\"Open In Colab\"/></a>"
      ]
    },
    {
      "cell_type": "markdown",
      "metadata": {
        "id": "yafAgYF30Js4"
      },
      "source": [
        "### CNN(Convolution Neural Network)\n",
        "  - 이미지 학습 가능(2차원의 데이터도 학습)\n",
        "  - 데이터에서 특징을 추출하고 추출된 특징을 기반으로 학습\n",
        "    - 이미지의 크기, 방향 등에 크게 관여하지 않는다\n",
        "    "
      ]
    },
    {
      "cell_type": "markdown",
      "metadata": {
        "id": "MXX_aSfLHFQ-"
      },
      "source": [
        "##### 축소샘플링\n",
        "      - Conv(특징찾기) : 이미지에 적용시키면 전체 데이터의 크기가 줄어듦\n",
        "      - 축소 샘플링 진행할 때 :\n",
        "          1. 데이터의 크기가 너무 클 때\n",
        "          2. 가장자리의 데이터가 필요없을 때\n",
        "           padding = 'valid'\n",
        "      - 축소 샘플링 진행하지 않을 때 :\n",
        "          1. 데이터가 너무 작을 때\n",
        "          2. 가장자리에 중요한 데이터가 있을 때\n",
        "            padding = 'same'\n",
        "\n",
        "Pooling\n",
        "  - 특정 지역의 대표값만 추출\n",
        "  - 축소샘플링이 이루어짐 > 특징 집약적인 데이터가 만들어짐 > 학습시간은 감소 > 성능은 비슷\n",
        "\n",
        "Flatten\n",
        "  - 다차원의 데이터를 1차원으로 만들어주는 역할\n",
        "  - Conv > Pool > Flatten > Dense"
      ]
    },
    {
      "cell_type": "code",
      "execution_count": 52,
      "metadata": {
        "colab": {
          "base_uri": "https://localhost:8080/"
        },
        "id": "zjdphzdKCAXM",
        "outputId": "9192ff58-4960-4291-c438-b371b88befa7"
      },
      "outputs": [
        {
          "output_type": "stream",
          "name": "stdout",
          "text": [
            "Drive already mounted at /content/drive; to attempt to forcibly remount, call drive.mount(\"/content/drive\", force_remount=True).\n"
          ]
        }
      ],
      "source": [
        "from google.colab import drive\n",
        "drive.mount('/content/drive')"
      ]
    },
    {
      "cell_type": "code",
      "execution_count": 53,
      "metadata": {
        "id": "9Zm0T_pc9Hg2"
      },
      "outputs": [],
      "source": [
        " # /content/drive/MyDrive/Colab Notebooks/DeepLearning/data/dogs_vs_cats_small\n",
        " # 데이터 경로지정\n",
        " train_dir = '/content/drive/MyDrive/Colab Notebooks/DeepLearning/data/dogs_vs_cats_small/train'\n",
        " valid_dir = '/content/drive/MyDrive/Colab Notebooks/DeepLearning/data/dogs_vs_cats_small/validation'"
      ]
    },
    {
      "cell_type": "code",
      "execution_count": 54,
      "metadata": {
        "id": "N3IzZTdX9Hq8"
      },
      "outputs": [],
      "source": [
        "# 하나의 변수에 이미지 파일 전부다 합치기\n",
        "# 픽셀값( 0 ~ 255 / 정수 ) (변경) --> ( 0 ~ 1 까지의 / 실수값 )\n",
        "## 1. 숫자 크기 줄이기 > 연산량 감소\n",
        "## 2. 분산(값이 분포해있는 범) 줄이기 > 연산의 오류 줄어듦\n",
        "# 이미지 크기 맞춰주기 (150,150)\n",
        "# 라벨링\n",
        "from tensorflow.keras.preprocessing.image import ImageDataGenerator"
      ]
    },
    {
      "cell_type": "code",
      "execution_count": 55,
      "metadata": {
        "id": "a7hBEJgQ9Hxu"
      },
      "outputs": [],
      "source": [
        "# 픽셀값 변경 기능 만들기\n",
        "# 묵시적 형변환 하기\n",
        "## 프로그래밍에서 연산상에서 타입이 변경되도록 하기\n",
        "generator = ImageDataGenerator(rescale = 1./255) # 1. = 1.0"
      ]
    },
    {
      "cell_type": "code",
      "execution_count": 56,
      "metadata": {
        "colab": {
          "base_uri": "https://localhost:8080/"
        },
        "id": "s8oGcZkH9H4o",
        "outputId": "7a94d633-27ab-447b-d0a9-05baff7395a6"
      },
      "outputs": [
        {
          "output_type": "stream",
          "name": "stdout",
          "text": [
            "Found 2000 images belonging to 2 classes.\n"
          ]
        }
      ],
      "source": [
        "# 하나의 변수에 이밎 파일 전부다 합치기\n",
        "# 이미지 크기 동일하게 만들어주기\n",
        "# 라벨링\n",
        "train_generator = generator.flow_from_directory(\n",
        "    directory = train_dir, # train 이미지 경로, 변환할 이미지\n",
        "    target_size = (150,150),  # 변환할 이미지 크기\n",
        "    batch_size = 100,  # 한번에 변환할 이미지 갯수\n",
        "    class_mode = 'binary'  # 라벨링 방법, 다중분류 : categorical\n",
        ")"
      ]
    },
    {
      "cell_type": "code",
      "execution_count": 57,
      "metadata": {
        "colab": {
          "base_uri": "https://localhost:8080/"
        },
        "id": "5tblD18H9H8z",
        "outputId": "1cca8eea-4c3e-40a4-9072-0a1983c8cf28"
      },
      "outputs": [
        {
          "output_type": "stream",
          "name": "stdout",
          "text": [
            "Found 1000 images belonging to 2 classes.\n"
          ]
        }
      ],
      "source": [
        "valid_generator = generator.flow_from_directory(\n",
        "    directory = valid_dir, # train 이미지 경로, 변환할 이미지\n",
        "    target_size = (150,150),  # 변환할 이미지 크기\n",
        "    batch_size = 100,  # 한번에 변환할 이미지 갯수\n",
        "    class_mode = 'binary'  # 라벨링 방법, 다중분류 : categorical\n",
        ")"
      ]
    },
    {
      "cell_type": "code",
      "execution_count": 58,
      "metadata": {
        "id": "-LwvJWA-9IDT"
      },
      "outputs": [],
      "source": [
        "# CNN 모델 설계\n",
        "from tensorflow.keras import Sequential\n",
        "from tensorflow.keras.layers import Dense, Conv2D, MaxPool2D, Flatten"
      ]
    },
    {
      "cell_type": "code",
      "execution_count": 59,
      "metadata": {
        "id": "35ncmPke9IXK"
      },
      "outputs": [],
      "source": [
        "# Dense 만 사용 = MLP\n",
        "# Conv, Pool이 주로 사용된다 = CNN\n",
        "# 딥러닝 모델 생성\n",
        "# 건물 토대 설계\n",
        "model1 = Sequential()\n",
        "\n",
        "# 입력층\n",
        "model1.add(Conv2D(  # 특징 찾기\n",
        "    filters = 32, # 찾을 특징의 갯수\n",
        "    kernel_size = (3,3),  # 특징의 크기\n",
        "    input_shape = (150, 150,3),  # 입력 데이터의 모양(3 = RGB) # 0 : 검은색, 255 : 흰색\n",
        "    activation = 'relu',\n",
        "    padding = 'same'\n",
        "))\n",
        "\n",
        "model1.add(MaxPool2D( # 특징이 아닌 부분 삭제하기\n",
        "    pool_size = (2,2) # 기준 크기에서 1개의 특징만 가져오기 / 4개중에 한 개 사용하기 (가장 특징 값이 큰 것)\n",
        "))\n",
        "\n",
        "\n",
        "model1.add(Conv2D(  # 특징 찾기 (앞에서 찾은 특징에서 더 세부적인 부)\n",
        "    filters = 32, # 찾을 특징의 갯수\n",
        "    kernel_size = (3,3),  # 특징의 크기\n",
        "    activation = 'relu'\n",
        "))\n",
        "\n",
        "model1.add(MaxPool2D( # 특징이 아닌 부분 삭제하기\n",
        "    pool_size = (2,2) # 기준 크기에서 1개의 특징만 가져오기 / 4개중에 한 개 사용하기\n",
        "))\n",
        "\n",
        "################# 특징 추출부 끝 ####################\n",
        "model1.add(Flatten())  # 특징추출부와 분류부를 이어주는 역할\n",
        "################# 분류 분석 시작 ####################\n",
        "model1.add(Dense(units = 32, activation = 'relu'))\n",
        "model1.add(Dense(units = 64, activation = 'relu'))\n",
        "model1.add(Dense(units = 128, activation = 'relu'))\n",
        "model1.add(Dense(units = 64, activation = 'relu'))\n",
        "model1.add(Dense(units = 32, activation = 'relu'))\n",
        "\n",
        "# 출력층\n",
        "model1.add(Dense(units = 1, activation = 'sigmoid'))"
      ]
    },
    {
      "cell_type": "code",
      "execution_count": 60,
      "metadata": {
        "id": "RBdKnBfq9IbT"
      },
      "outputs": [],
      "source": [
        "# 학습 방법 설정\n",
        "model1.compile(\n",
        "    loss = 'binary_crossentropy',\n",
        "    optimizer = 'adam',\n",
        "    metrics = ['accuracy']\n",
        ")"
      ]
    },
    {
      "cell_type": "code",
      "execution_count": null,
      "metadata": {
        "colab": {
          "background_save": true,
          "base_uri": "https://localhost:8080/"
        },
        "id": "lR5EeKYr9IgJ",
        "outputId": "af9e0a1c-0d0e-4c6b-b5fb-25b250d56a08"
      },
      "outputs": [
        {
          "output_type": "stream",
          "name": "stdout",
          "text": [
            "Epoch 1/20\n",
            "20/20 [==============================] - 14s 471ms/step - loss: 0.6960 - accuracy: 0.5125 - val_loss: 0.6906 - val_accuracy: 0.5450\n"
          ]
        }
      ],
      "source": [
        "model1.fit(\n",
        "    train_generator, # 학습 데이터(X_train, y_train이 합쳐져 있다)\n",
        "    epochs = 20,\n",
        "    validation_data = valid_generator\n",
        ")"
      ]
    },
    {
      "cell_type": "code",
      "execution_count": null,
      "metadata": {
        "colab": {
          "background_save": true
        },
        "id": "EfTdKEG79IkF"
      },
      "outputs": [],
      "source": [
        "import PIL.Image as pimg\n",
        "import cv2\n",
        "\n",
        "# 이미지 불러오기\n",
        "pre_img = cv2.imread('/content/doonge.jpg',cv2.IMREAD_COLOR)\n",
        "\n",
        "# 이미지 색상 변경하기\n",
        "pre_img = cv2.cvtColor(pre_img, cv2.COLOR_BGR2RGB)\n",
        "\n",
        "# 이미지 크기 변경하기\n",
        "pre_img = cv2.resize(pre_img,(150,150))\n",
        "\n",
        "# 이미지 차원 변경하기\n",
        "pre_img = pre_img.reshape((1,150,150,3))"
      ]
    },
    {
      "cell_type": "code",
      "execution_count": null,
      "metadata": {
        "colab": {
          "background_save": true
        },
        "id": "3xoGKtZ19Inv"
      },
      "outputs": [],
      "source": [
        "# 0 = cat\n",
        "# 1 = dog\n",
        "# 대다수의 사람은 개라는 결과를 얻는다 = 모델이 학습이 덜 돼서 개의 규칙은 잘 찾았지만 고양이의 규칙은  찾지 못했기 때문\n",
        "model1.predict(pre_img)"
      ]
    },
    {
      "cell_type": "code",
      "execution_count": null,
      "metadata": {
        "colab": {
          "background_save": true
        },
        "id": "7i5Ypbfe9IrZ"
      },
      "outputs": [],
      "source": [
        "# 부동소수점 : 소수점의 위치가 변하지 않는다\n",
        "# 1.7243704e-35 = 1.7243704 * 10^(-35) / 0이라고 봐도 무방"
      ]
    },
    {
      "cell_type": "code",
      "execution_count": null,
      "metadata": {
        "colab": {
          "background_save": true
        },
        "id": "YoeKN0XL9IvR"
      },
      "outputs": [],
      "source": [
        "# train accuracy : 0.98\n",
        "# val accuracy : 0.7\n",
        "# > train은 학습이 잘 됐고, val은 학습이 안됐다 > 과대적합에 걸렸다\n",
        "#  과대적합을 해소하는 방법\n",
        "# 1. 데이터의 양을 늘린다(추가적으로 데이터를 수집) > 많이 어렵다\n",
        "# 2. 모델을 더 깊게 구성한다 (층을 더 많이 쌓는다)\n",
        "# 3. 데이터를 확장한다(가지고 있는 데이터를 다양하게 표현)"
      ]
    },
    {
      "cell_type": "code",
      "execution_count": null,
      "metadata": {
        "colab": {
          "background_save": true
        },
        "id": "Wqbw1j5WXRZv"
      },
      "outputs": [],
      "source": [
        "# 데이터 확장을 하고 새롭게 학습한다\n",
        "# 데이터를 확장하면 원본 데이터는 사라진다\n",
        "# 모델 설계 > 확장 안된 이미지로 학습 > 결과 확인 > 만족스럽지 않다 > 데이터 확장 후 학습"
      ]
    },
    {
      "cell_type": "code",
      "execution_count": null,
      "metadata": {
        "colab": {
          "background_save": true
        },
        "id": "v4oOdVN9XRdr"
      },
      "outputs": [],
      "source": [
        "# 기존 모델에 확장 데이터로 학습하기\n",
        "# 확장의 방법 골라주기\n",
        "aug_generator = ImageDataGenerator(\n",
        "    rescale = 1./255, # 픽셀값 조정\n",
        "    rotation_range = 20, # 회전 범위\n",
        "    width_shift_range = 0.1, # 수평 이동\n",
        "    height_shift_range = 0.1, # 수직 이동\n",
        "    shear_range = 0.1, # 반시계 방향 회전\n",
        "    zoom_range = 0.1, # 확대/축소 비율\n",
        "    horizontal_flip = True, # 수평 뒤집기\n",
        "    fill_mode = 'nearest' # 가까운 값으로 비어있는 곳을 채운다\n",
        ")"
      ]
    },
    {
      "cell_type": "code",
      "execution_count": null,
      "metadata": {
        "colab": {
          "background_save": true
        },
        "id": "AmBULC9dXRhA"
      },
      "outputs": [],
      "source": [
        "train_aug_generator = aug_generator.flow_from_directory(\n",
        "    train_dir,\n",
        "    target_size = (150,150),\n",
        "    batch_size = 100,\n",
        "    class_mode = 'binary'\n",
        ")"
      ]
    },
    {
      "cell_type": "code",
      "execution_count": null,
      "metadata": {
        "colab": {
          "background_save": true
        },
        "id": "c6zAgsmgXRj9"
      },
      "outputs": [],
      "source": [
        "model1.fit(\n",
        "    train_aug_generator,\n",
        "    epochs = 20,\n",
        "    validation_data = valid_generator,\n",
        ")"
      ]
    },
    {
      "cell_type": "code",
      "execution_count": null,
      "metadata": {
        "id": "4cOCcStOXRnB"
      },
      "outputs": [],
      "source": [
        "# train은 낮아지고 valudation은 높아졌다"
      ]
    },
    {
      "cell_type": "code",
      "execution_count": null,
      "metadata": {
        "id": "8EhKKjxH9IyY"
      },
      "outputs": [],
      "source": []
    }
  ],
  "metadata": {
    "accelerator": "GPU",
    "colab": {
      "provenance": [],
      "toc_visible": true,
      "mount_file_id": "1tXjbE7gG4MpJYvTEYAZ_Io-toL5shHYD",
      "authorship_tag": "ABX9TyMUpqf26PhdW5JUTgsitj3Q",
      "include_colab_link": true
    },
    "kernelspec": {
      "display_name": "Python 3",
      "name": "python3"
    },
    "language_info": {
      "name": "python"
    }
  },
  "nbformat": 4,
  "nbformat_minor": 0
}
